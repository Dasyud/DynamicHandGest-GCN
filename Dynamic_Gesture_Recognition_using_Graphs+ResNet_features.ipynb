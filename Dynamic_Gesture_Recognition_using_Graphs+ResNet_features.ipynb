{
  "nbformat": 4,
  "nbformat_minor": 0,
  "metadata": {
    "colab": {
      "name": "Dynamic_Gesture_Recognition_using_Graphs+ResNet features.ipynb",
      "provenance": [],
      "machine_shape": "hm",
      "collapsed_sections": [
        "L017s5QYy_vR",
        "g_tkXBmK3JR3",
        "GM-nu-g04XPg",
        "LU3OrgKDOuVk",
        "ZOWTDhR83Cmr",
        "rlZxwduhtJoG",
        "07MtQsMey5R9",
        "lC2MDNtZz7Zy",
        "_hdebmmjQNdT",
        "De8-1fWRIkl7",
        "qui0sGHSIqTu"
      ],
      "toc_visible": true,
      "include_colab_link": true
    },
    "kernelspec": {
      "display_name": "Python 3",
      "language": "python",
      "name": "python3"
    },
    "language_info": {
      "codemirror_mode": {
        "name": "ipython",
        "version": 3
      },
      "file_extension": ".py",
      "mimetype": "text/x-python",
      "name": "python",
      "nbconvert_exporter": "python",
      "pygments_lexer": "ipython3",
      "version": "3.8.5"
    },
    "accelerator": "GPU"
  },
  "cells": [
    {
      "cell_type": "markdown",
      "metadata": {
        "id": "view-in-github",
        "colab_type": "text"
      },
      "source": [
        "<a href=\"https://colab.research.google.com/github/Dasyud/DynamicHandGest-GCN/blob/main/Dynamic_Gesture_Recognition_using_Graphs%2BResNet_features.ipynb\" target=\"_parent\"><img src=\"https://colab.research.google.com/assets/colab-badge.svg\" alt=\"Open In Colab\"/></a>"
      ]
    },
    {
      "cell_type": "markdown",
      "source": [
        "**Load your sample dataset by changing the directory location in the Entire dataset -> stellarGraphs section**"
      ],
      "metadata": {
        "id": "zjIf5PGDpZys"
      }
    },
    {
      "cell_type": "markdown",
      "metadata": {
        "id": "L017s5QYy_vR"
      },
      "source": [
        "# Setting up the environment"
      ]
    },
    {
      "cell_type": "code",
      "source": [
        "!pip install stellargraph\n",
        "!pip install networkx"
      ],
      "metadata": {
        "colab": {
          "base_uri": "https://localhost:8080/"
        },
        "id": "hOp3tQqvMt-7",
        "outputId": "8f8f93f5-2890-48fd-de70-2b01a09131ec"
      },
      "execution_count": null,
      "outputs": [
        {
          "output_type": "stream",
          "name": "stdout",
          "text": [
            "Requirement already satisfied: stellargraph in /usr/local/lib/python3.7/dist-packages (1.2.1)\n",
            "Requirement already satisfied: matplotlib>=2.2 in /usr/local/lib/python3.7/dist-packages (from stellargraph) (3.2.2)\n",
            "Requirement already satisfied: gensim>=3.4.0 in /usr/local/lib/python3.7/dist-packages (from stellargraph) (3.6.0)\n",
            "Requirement already satisfied: tensorflow>=2.1.0 in /usr/local/lib/python3.7/dist-packages (from stellargraph) (2.8.0)\n",
            "Requirement already satisfied: networkx>=2.2 in /usr/local/lib/python3.7/dist-packages (from stellargraph) (2.6.3)\n",
            "Requirement already satisfied: pandas>=0.24 in /usr/local/lib/python3.7/dist-packages (from stellargraph) (1.3.5)\n",
            "Requirement already satisfied: scikit-learn>=0.20 in /usr/local/lib/python3.7/dist-packages (from stellargraph) (1.0.2)\n",
            "Requirement already satisfied: scipy>=1.1.0 in /usr/local/lib/python3.7/dist-packages (from stellargraph) (1.4.1)\n",
            "Requirement already satisfied: numpy>=1.14 in /usr/local/lib/python3.7/dist-packages (from stellargraph) (1.21.6)\n",
            "Requirement already satisfied: smart-open>=1.2.1 in /usr/local/lib/python3.7/dist-packages (from gensim>=3.4.0->stellargraph) (5.2.1)\n",
            "Requirement already satisfied: six>=1.5.0 in /usr/local/lib/python3.7/dist-packages (from gensim>=3.4.0->stellargraph) (1.15.0)\n",
            "Requirement already satisfied: kiwisolver>=1.0.1 in /usr/local/lib/python3.7/dist-packages (from matplotlib>=2.2->stellargraph) (1.4.2)\n",
            "Requirement already satisfied: pyparsing!=2.0.4,!=2.1.2,!=2.1.6,>=2.0.1 in /usr/local/lib/python3.7/dist-packages (from matplotlib>=2.2->stellargraph) (3.0.8)\n",
            "Requirement already satisfied: python-dateutil>=2.1 in /usr/local/lib/python3.7/dist-packages (from matplotlib>=2.2->stellargraph) (2.8.2)\n",
            "Requirement already satisfied: cycler>=0.10 in /usr/local/lib/python3.7/dist-packages (from matplotlib>=2.2->stellargraph) (0.11.0)\n",
            "Requirement already satisfied: typing-extensions in /usr/local/lib/python3.7/dist-packages (from kiwisolver>=1.0.1->matplotlib>=2.2->stellargraph) (4.2.0)\n",
            "Requirement already satisfied: pytz>=2017.3 in /usr/local/lib/python3.7/dist-packages (from pandas>=0.24->stellargraph) (2022.1)\n",
            "Requirement already satisfied: joblib>=0.11 in /usr/local/lib/python3.7/dist-packages (from scikit-learn>=0.20->stellargraph) (1.1.0)\n",
            "Requirement already satisfied: threadpoolctl>=2.0.0 in /usr/local/lib/python3.7/dist-packages (from scikit-learn>=0.20->stellargraph) (3.1.0)\n",
            "Requirement already satisfied: libclang>=9.0.1 in /usr/local/lib/python3.7/dist-packages (from tensorflow>=2.1.0->stellargraph) (13.0.0)\n",
            "Requirement already satisfied: keras<2.9,>=2.8.0rc0 in /usr/local/lib/python3.7/dist-packages (from tensorflow>=2.1.0->stellargraph) (2.8.0)\n",
            "Requirement already satisfied: opt-einsum>=2.3.2 in /usr/local/lib/python3.7/dist-packages (from tensorflow>=2.1.0->stellargraph) (3.3.0)\n",
            "Requirement already satisfied: setuptools in /usr/local/lib/python3.7/dist-packages (from tensorflow>=2.1.0->stellargraph) (57.4.0)\n",
            "Requirement already satisfied: tensorflow-io-gcs-filesystem>=0.23.1 in /usr/local/lib/python3.7/dist-packages (from tensorflow>=2.1.0->stellargraph) (0.24.0)\n",
            "Requirement already satisfied: absl-py>=0.4.0 in /usr/local/lib/python3.7/dist-packages (from tensorflow>=2.1.0->stellargraph) (1.0.0)\n",
            "Requirement already satisfied: protobuf>=3.9.2 in /usr/local/lib/python3.7/dist-packages (from tensorflow>=2.1.0->stellargraph) (3.17.3)\n",
            "Requirement already satisfied: wrapt>=1.11.0 in /usr/local/lib/python3.7/dist-packages (from tensorflow>=2.1.0->stellargraph) (1.14.0)\n",
            "Requirement already satisfied: termcolor>=1.1.0 in /usr/local/lib/python3.7/dist-packages (from tensorflow>=2.1.0->stellargraph) (1.1.0)\n",
            "Requirement already satisfied: tf-estimator-nightly==2.8.0.dev2021122109 in /usr/local/lib/python3.7/dist-packages (from tensorflow>=2.1.0->stellargraph) (2.8.0.dev2021122109)\n",
            "Requirement already satisfied: keras-preprocessing>=1.1.1 in /usr/local/lib/python3.7/dist-packages (from tensorflow>=2.1.0->stellargraph) (1.1.2)\n",
            "Requirement already satisfied: google-pasta>=0.1.1 in /usr/local/lib/python3.7/dist-packages (from tensorflow>=2.1.0->stellargraph) (0.2.0)\n",
            "Requirement already satisfied: gast>=0.2.1 in /usr/local/lib/python3.7/dist-packages (from tensorflow>=2.1.0->stellargraph) (0.5.3)\n",
            "Requirement already satisfied: flatbuffers>=1.12 in /usr/local/lib/python3.7/dist-packages (from tensorflow>=2.1.0->stellargraph) (2.0)\n",
            "Requirement already satisfied: h5py>=2.9.0 in /usr/local/lib/python3.7/dist-packages (from tensorflow>=2.1.0->stellargraph) (3.1.0)\n",
            "Requirement already satisfied: tensorboard<2.9,>=2.8 in /usr/local/lib/python3.7/dist-packages (from tensorflow>=2.1.0->stellargraph) (2.8.0)\n",
            "Requirement already satisfied: grpcio<2.0,>=1.24.3 in /usr/local/lib/python3.7/dist-packages (from tensorflow>=2.1.0->stellargraph) (1.44.0)\n",
            "Requirement already satisfied: astunparse>=1.6.0 in /usr/local/lib/python3.7/dist-packages (from tensorflow>=2.1.0->stellargraph) (1.6.3)\n",
            "Requirement already satisfied: wheel<1.0,>=0.23.0 in /usr/local/lib/python3.7/dist-packages (from astunparse>=1.6.0->tensorflow>=2.1.0->stellargraph) (0.37.1)\n",
            "Requirement already satisfied: cached-property in /usr/local/lib/python3.7/dist-packages (from h5py>=2.9.0->tensorflow>=2.1.0->stellargraph) (1.5.2)\n",
            "Requirement already satisfied: tensorboard-data-server<0.7.0,>=0.6.0 in /usr/local/lib/python3.7/dist-packages (from tensorboard<2.9,>=2.8->tensorflow>=2.1.0->stellargraph) (0.6.1)\n",
            "Requirement already satisfied: google-auth-oauthlib<0.5,>=0.4.1 in /usr/local/lib/python3.7/dist-packages (from tensorboard<2.9,>=2.8->tensorflow>=2.1.0->stellargraph) (0.4.6)\n",
            "Requirement already satisfied: werkzeug>=0.11.15 in /usr/local/lib/python3.7/dist-packages (from tensorboard<2.9,>=2.8->tensorflow>=2.1.0->stellargraph) (1.0.1)\n",
            "Requirement already satisfied: markdown>=2.6.8 in /usr/local/lib/python3.7/dist-packages (from tensorboard<2.9,>=2.8->tensorflow>=2.1.0->stellargraph) (3.3.6)\n",
            "Requirement already satisfied: tensorboard-plugin-wit>=1.6.0 in /usr/local/lib/python3.7/dist-packages (from tensorboard<2.9,>=2.8->tensorflow>=2.1.0->stellargraph) (1.8.1)\n",
            "Requirement already satisfied: requests<3,>=2.21.0 in /usr/local/lib/python3.7/dist-packages (from tensorboard<2.9,>=2.8->tensorflow>=2.1.0->stellargraph) (2.23.0)\n",
            "Requirement already satisfied: google-auth<3,>=1.6.3 in /usr/local/lib/python3.7/dist-packages (from tensorboard<2.9,>=2.8->tensorflow>=2.1.0->stellargraph) (1.35.0)\n",
            "Requirement already satisfied: pyasn1-modules>=0.2.1 in /usr/local/lib/python3.7/dist-packages (from google-auth<3,>=1.6.3->tensorboard<2.9,>=2.8->tensorflow>=2.1.0->stellargraph) (0.2.8)\n",
            "Requirement already satisfied: cachetools<5.0,>=2.0.0 in /usr/local/lib/python3.7/dist-packages (from google-auth<3,>=1.6.3->tensorboard<2.9,>=2.8->tensorflow>=2.1.0->stellargraph) (4.2.4)\n",
            "Requirement already satisfied: rsa<5,>=3.1.4 in /usr/local/lib/python3.7/dist-packages (from google-auth<3,>=1.6.3->tensorboard<2.9,>=2.8->tensorflow>=2.1.0->stellargraph) (4.8)\n",
            "Requirement already satisfied: requests-oauthlib>=0.7.0 in /usr/local/lib/python3.7/dist-packages (from google-auth-oauthlib<0.5,>=0.4.1->tensorboard<2.9,>=2.8->tensorflow>=2.1.0->stellargraph) (1.3.1)\n",
            "Requirement already satisfied: importlib-metadata>=4.4 in /usr/local/lib/python3.7/dist-packages (from markdown>=2.6.8->tensorboard<2.9,>=2.8->tensorflow>=2.1.0->stellargraph) (4.11.3)\n",
            "Requirement already satisfied: zipp>=0.5 in /usr/local/lib/python3.7/dist-packages (from importlib-metadata>=4.4->markdown>=2.6.8->tensorboard<2.9,>=2.8->tensorflow>=2.1.0->stellargraph) (3.8.0)\n",
            "Requirement already satisfied: pyasn1<0.5.0,>=0.4.6 in /usr/local/lib/python3.7/dist-packages (from pyasn1-modules>=0.2.1->google-auth<3,>=1.6.3->tensorboard<2.9,>=2.8->tensorflow>=2.1.0->stellargraph) (0.4.8)\n",
            "Requirement already satisfied: idna<3,>=2.5 in /usr/local/lib/python3.7/dist-packages (from requests<3,>=2.21.0->tensorboard<2.9,>=2.8->tensorflow>=2.1.0->stellargraph) (2.10)\n",
            "Requirement already satisfied: chardet<4,>=3.0.2 in /usr/local/lib/python3.7/dist-packages (from requests<3,>=2.21.0->tensorboard<2.9,>=2.8->tensorflow>=2.1.0->stellargraph) (3.0.4)\n",
            "Requirement already satisfied: urllib3!=1.25.0,!=1.25.1,<1.26,>=1.21.1 in /usr/local/lib/python3.7/dist-packages (from requests<3,>=2.21.0->tensorboard<2.9,>=2.8->tensorflow>=2.1.0->stellargraph) (1.24.3)\n",
            "Requirement already satisfied: certifi>=2017.4.17 in /usr/local/lib/python3.7/dist-packages (from requests<3,>=2.21.0->tensorboard<2.9,>=2.8->tensorflow>=2.1.0->stellargraph) (2021.10.8)\n",
            "Requirement already satisfied: oauthlib>=3.0.0 in /usr/local/lib/python3.7/dist-packages (from requests-oauthlib>=0.7.0->google-auth-oauthlib<0.5,>=0.4.1->tensorboard<2.9,>=2.8->tensorflow>=2.1.0->stellargraph) (3.2.0)\n",
            "Requirement already satisfied: networkx in /usr/local/lib/python3.7/dist-packages (2.6.3)\n"
          ]
        }
      ]
    },
    {
      "cell_type": "code",
      "metadata": {
        "id": "x3FBvjfe5ypG"
      },
      "source": [
        "# !pip install -q -U tensorflow-hub tensorflow-text tensorflow-addons"
      ],
      "execution_count": null,
      "outputs": []
    },
    {
      "cell_type": "code",
      "metadata": {
        "id": "Ka8AfiL_6kx7",
        "colab": {
          "base_uri": "https://localhost:8080/"
        },
        "outputId": "bbcaefc1-872a-444c-b2f3-f4cd9a90b102"
      },
      "source": [
        "from google.colab import drive\n",
        "drive.mount('/content/drive')"
      ],
      "execution_count": null,
      "outputs": [
        {
          "output_type": "stream",
          "name": "stdout",
          "text": [
            "Drive already mounted at /content/drive; to attempt to forcibly remount, call drive.mount(\"/content/drive\", force_remount=True).\n"
          ]
        }
      ]
    },
    {
      "cell_type": "code",
      "metadata": {
        "id": "ODUDwMsmDlHm"
      },
      "source": [
        "import os\n",
        "import numpy as np\n",
        "import tensorflow as tf\n",
        "import pandas as pd\n",
        "import cv2\n",
        "from tqdm import tqdm\n",
        "\n",
        "from tensorflow.keras import layers\n",
        "from tensorflow.keras.optimizers import Adam\n",
        "from tensorflow.keras.losses import binary_crossentropy\n",
        "# import tensorflow_addons as tfa\n",
        "from keras.models import Model\n",
        "\n",
        "from google.colab.patches import cv2_imshow\n",
        "from sklearn import model_selection\n",
        "from sklearn.utils import shuffle\n",
        "import matplotlib.pyplot as plt\n",
        "\n",
        "import stellargraph as sg\n",
        "from stellargraph.mapper import PaddedGraphGenerator\n",
        "from stellargraph.layer import DeepGraphCNN\n",
        "from stellargraph import StellarGraph\n",
        "import networkx as nx\n",
        "\n",
        "import glob\n",
        "import pickle"
      ],
      "execution_count": null,
      "outputs": []
    },
    {
      "cell_type": "code",
      "metadata": {
        "colab": {
          "base_uri": "https://localhost:8080/"
        },
        "id": "pW5jURAyCrC8",
        "outputId": "e7ad8ef2-948e-4296-f8cd-c41947dfbad2"
      },
      "source": [
        "!nvidia-smi"
      ],
      "execution_count": null,
      "outputs": [
        {
          "output_type": "stream",
          "name": "stdout",
          "text": [
            "NVIDIA-SMI has failed because it couldn't communicate with the NVIDIA driver. Make sure that the latest NVIDIA driver is installed and running.\n",
            "\n"
          ]
        }
      ]
    },
    {
      "cell_type": "markdown",
      "source": [
        "# ResNet50 CNN"
      ],
      "metadata": {
        "id": "g_tkXBmK3JR3"
      }
    },
    {
      "cell_type": "code",
      "source": [
        "rows, cols, chnls = 100, 176, 3\n",
        "# print(rows,cols,chnls)"
      ],
      "metadata": {
        "id": "H25VabtMWl1_"
      },
      "execution_count": null,
      "outputs": []
    },
    {
      "cell_type": "code",
      "source": [
        "from tensorflow.keras.applications.resnet50 import ResNet50\n",
        "from tensorflow.keras.preprocessing import image\n",
        "from tensorflow.keras.applications.resnet50 import preprocess_input, decode_predictions\n",
        "import numpy as np\n",
        "\n",
        "model_pretrained = ResNet50(weights='imagenet',include_top = False,input_shape=(rows,cols,chnls))\n",
        "\n",
        "model_pretrained.summary()\n",
        "\n",
        "feature1dshape = model_pretrained.output_shape[1]*model_pretrained.output_shape[2]*model_pretrained.output_shape[3]\n",
        "feature_vector = tf.reshape(model_pretrained.output,[-1,feature1dshape])\n",
        "print(feature1dshape)"
      ],
      "metadata": {
        "colab": {
          "base_uri": "https://localhost:8080/"
        },
        "id": "30e6FILJWHTq",
        "outputId": "3e6e95fc-c219-4398-b28f-c4c26254cea4"
      },
      "execution_count": null,
      "outputs": [
        {
          "output_type": "stream",
          "name": "stdout",
          "text": [
            "Model: \"resnet50\"\n",
            "__________________________________________________________________________________________________\n",
            " Layer (type)                   Output Shape         Param #     Connected to                     \n",
            "==================================================================================================\n",
            " input_1 (InputLayer)           [(None, 100, 176, 3  0           []                               \n",
            "                                )]                                                                \n",
            "                                                                                                  \n",
            " conv1_pad (ZeroPadding2D)      (None, 106, 182, 3)  0           ['input_1[0][0]']                \n",
            "                                                                                                  \n",
            " conv1_conv (Conv2D)            (None, 50, 88, 64)   9472        ['conv1_pad[0][0]']              \n",
            "                                                                                                  \n",
            " conv1_bn (BatchNormalization)  (None, 50, 88, 64)   256         ['conv1_conv[0][0]']             \n",
            "                                                                                                  \n",
            " conv1_relu (Activation)        (None, 50, 88, 64)   0           ['conv1_bn[0][0]']               \n",
            "                                                                                                  \n",
            " pool1_pad (ZeroPadding2D)      (None, 52, 90, 64)   0           ['conv1_relu[0][0]']             \n",
            "                                                                                                  \n",
            " pool1_pool (MaxPooling2D)      (None, 25, 44, 64)   0           ['pool1_pad[0][0]']              \n",
            "                                                                                                  \n",
            " conv2_block1_1_conv (Conv2D)   (None, 25, 44, 64)   4160        ['pool1_pool[0][0]']             \n",
            "                                                                                                  \n",
            " conv2_block1_1_bn (BatchNormal  (None, 25, 44, 64)  256         ['conv2_block1_1_conv[0][0]']    \n",
            " ization)                                                                                         \n",
            "                                                                                                  \n",
            " conv2_block1_1_relu (Activatio  (None, 25, 44, 64)  0           ['conv2_block1_1_bn[0][0]']      \n",
            " n)                                                                                               \n",
            "                                                                                                  \n",
            " conv2_block1_2_conv (Conv2D)   (None, 25, 44, 64)   36928       ['conv2_block1_1_relu[0][0]']    \n",
            "                                                                                                  \n",
            " conv2_block1_2_bn (BatchNormal  (None, 25, 44, 64)  256         ['conv2_block1_2_conv[0][0]']    \n",
            " ization)                                                                                         \n",
            "                                                                                                  \n",
            " conv2_block1_2_relu (Activatio  (None, 25, 44, 64)  0           ['conv2_block1_2_bn[0][0]']      \n",
            " n)                                                                                               \n",
            "                                                                                                  \n",
            " conv2_block1_0_conv (Conv2D)   (None, 25, 44, 256)  16640       ['pool1_pool[0][0]']             \n",
            "                                                                                                  \n",
            " conv2_block1_3_conv (Conv2D)   (None, 25, 44, 256)  16640       ['conv2_block1_2_relu[0][0]']    \n",
            "                                                                                                  \n",
            " conv2_block1_0_bn (BatchNormal  (None, 25, 44, 256)  1024       ['conv2_block1_0_conv[0][0]']    \n",
            " ization)                                                                                         \n",
            "                                                                                                  \n",
            " conv2_block1_3_bn (BatchNormal  (None, 25, 44, 256)  1024       ['conv2_block1_3_conv[0][0]']    \n",
            " ization)                                                                                         \n",
            "                                                                                                  \n",
            " conv2_block1_add (Add)         (None, 25, 44, 256)  0           ['conv2_block1_0_bn[0][0]',      \n",
            "                                                                  'conv2_block1_3_bn[0][0]']      \n",
            "                                                                                                  \n",
            " conv2_block1_out (Activation)  (None, 25, 44, 256)  0           ['conv2_block1_add[0][0]']       \n",
            "                                                                                                  \n",
            " conv2_block2_1_conv (Conv2D)   (None, 25, 44, 64)   16448       ['conv2_block1_out[0][0]']       \n",
            "                                                                                                  \n",
            " conv2_block2_1_bn (BatchNormal  (None, 25, 44, 64)  256         ['conv2_block2_1_conv[0][0]']    \n",
            " ization)                                                                                         \n",
            "                                                                                                  \n",
            " conv2_block2_1_relu (Activatio  (None, 25, 44, 64)  0           ['conv2_block2_1_bn[0][0]']      \n",
            " n)                                                                                               \n",
            "                                                                                                  \n",
            " conv2_block2_2_conv (Conv2D)   (None, 25, 44, 64)   36928       ['conv2_block2_1_relu[0][0]']    \n",
            "                                                                                                  \n",
            " conv2_block2_2_bn (BatchNormal  (None, 25, 44, 64)  256         ['conv2_block2_2_conv[0][0]']    \n",
            " ization)                                                                                         \n",
            "                                                                                                  \n",
            " conv2_block2_2_relu (Activatio  (None, 25, 44, 64)  0           ['conv2_block2_2_bn[0][0]']      \n",
            " n)                                                                                               \n",
            "                                                                                                  \n",
            " conv2_block2_3_conv (Conv2D)   (None, 25, 44, 256)  16640       ['conv2_block2_2_relu[0][0]']    \n",
            "                                                                                                  \n",
            " conv2_block2_3_bn (BatchNormal  (None, 25, 44, 256)  1024       ['conv2_block2_3_conv[0][0]']    \n",
            " ization)                                                                                         \n",
            "                                                                                                  \n",
            " conv2_block2_add (Add)         (None, 25, 44, 256)  0           ['conv2_block1_out[0][0]',       \n",
            "                                                                  'conv2_block2_3_bn[0][0]']      \n",
            "                                                                                                  \n",
            " conv2_block2_out (Activation)  (None, 25, 44, 256)  0           ['conv2_block2_add[0][0]']       \n",
            "                                                                                                  \n",
            " conv2_block3_1_conv (Conv2D)   (None, 25, 44, 64)   16448       ['conv2_block2_out[0][0]']       \n",
            "                                                                                                  \n",
            " conv2_block3_1_bn (BatchNormal  (None, 25, 44, 64)  256         ['conv2_block3_1_conv[0][0]']    \n",
            " ization)                                                                                         \n",
            "                                                                                                  \n",
            " conv2_block3_1_relu (Activatio  (None, 25, 44, 64)  0           ['conv2_block3_1_bn[0][0]']      \n",
            " n)                                                                                               \n",
            "                                                                                                  \n",
            " conv2_block3_2_conv (Conv2D)   (None, 25, 44, 64)   36928       ['conv2_block3_1_relu[0][0]']    \n",
            "                                                                                                  \n",
            " conv2_block3_2_bn (BatchNormal  (None, 25, 44, 64)  256         ['conv2_block3_2_conv[0][0]']    \n",
            " ization)                                                                                         \n",
            "                                                                                                  \n",
            " conv2_block3_2_relu (Activatio  (None, 25, 44, 64)  0           ['conv2_block3_2_bn[0][0]']      \n",
            " n)                                                                                               \n",
            "                                                                                                  \n",
            " conv2_block3_3_conv (Conv2D)   (None, 25, 44, 256)  16640       ['conv2_block3_2_relu[0][0]']    \n",
            "                                                                                                  \n",
            " conv2_block3_3_bn (BatchNormal  (None, 25, 44, 256)  1024       ['conv2_block3_3_conv[0][0]']    \n",
            " ization)                                                                                         \n",
            "                                                                                                  \n",
            " conv2_block3_add (Add)         (None, 25, 44, 256)  0           ['conv2_block2_out[0][0]',       \n",
            "                                                                  'conv2_block3_3_bn[0][0]']      \n",
            "                                                                                                  \n",
            " conv2_block3_out (Activation)  (None, 25, 44, 256)  0           ['conv2_block3_add[0][0]']       \n",
            "                                                                                                  \n",
            " conv3_block1_1_conv (Conv2D)   (None, 13, 22, 128)  32896       ['conv2_block3_out[0][0]']       \n",
            "                                                                                                  \n",
            " conv3_block1_1_bn (BatchNormal  (None, 13, 22, 128)  512        ['conv3_block1_1_conv[0][0]']    \n",
            " ization)                                                                                         \n",
            "                                                                                                  \n",
            " conv3_block1_1_relu (Activatio  (None, 13, 22, 128)  0          ['conv3_block1_1_bn[0][0]']      \n",
            " n)                                                                                               \n",
            "                                                                                                  \n",
            " conv3_block1_2_conv (Conv2D)   (None, 13, 22, 128)  147584      ['conv3_block1_1_relu[0][0]']    \n",
            "                                                                                                  \n",
            " conv3_block1_2_bn (BatchNormal  (None, 13, 22, 128)  512        ['conv3_block1_2_conv[0][0]']    \n",
            " ization)                                                                                         \n",
            "                                                                                                  \n",
            " conv3_block1_2_relu (Activatio  (None, 13, 22, 128)  0          ['conv3_block1_2_bn[0][0]']      \n",
            " n)                                                                                               \n",
            "                                                                                                  \n",
            " conv3_block1_0_conv (Conv2D)   (None, 13, 22, 512)  131584      ['conv2_block3_out[0][0]']       \n",
            "                                                                                                  \n",
            " conv3_block1_3_conv (Conv2D)   (None, 13, 22, 512)  66048       ['conv3_block1_2_relu[0][0]']    \n",
            "                                                                                                  \n",
            " conv3_block1_0_bn (BatchNormal  (None, 13, 22, 512)  2048       ['conv3_block1_0_conv[0][0]']    \n",
            " ization)                                                                                         \n",
            "                                                                                                  \n",
            " conv3_block1_3_bn (BatchNormal  (None, 13, 22, 512)  2048       ['conv3_block1_3_conv[0][0]']    \n",
            " ization)                                                                                         \n",
            "                                                                                                  \n",
            " conv3_block1_add (Add)         (None, 13, 22, 512)  0           ['conv3_block1_0_bn[0][0]',      \n",
            "                                                                  'conv3_block1_3_bn[0][0]']      \n",
            "                                                                                                  \n",
            " conv3_block1_out (Activation)  (None, 13, 22, 512)  0           ['conv3_block1_add[0][0]']       \n",
            "                                                                                                  \n",
            " conv3_block2_1_conv (Conv2D)   (None, 13, 22, 128)  65664       ['conv3_block1_out[0][0]']       \n",
            "                                                                                                  \n",
            " conv3_block2_1_bn (BatchNormal  (None, 13, 22, 128)  512        ['conv3_block2_1_conv[0][0]']    \n",
            " ization)                                                                                         \n",
            "                                                                                                  \n",
            " conv3_block2_1_relu (Activatio  (None, 13, 22, 128)  0          ['conv3_block2_1_bn[0][0]']      \n",
            " n)                                                                                               \n",
            "                                                                                                  \n",
            " conv3_block2_2_conv (Conv2D)   (None, 13, 22, 128)  147584      ['conv3_block2_1_relu[0][0]']    \n",
            "                                                                                                  \n",
            " conv3_block2_2_bn (BatchNormal  (None, 13, 22, 128)  512        ['conv3_block2_2_conv[0][0]']    \n",
            " ization)                                                                                         \n",
            "                                                                                                  \n",
            " conv3_block2_2_relu (Activatio  (None, 13, 22, 128)  0          ['conv3_block2_2_bn[0][0]']      \n",
            " n)                                                                                               \n",
            "                                                                                                  \n",
            " conv3_block2_3_conv (Conv2D)   (None, 13, 22, 512)  66048       ['conv3_block2_2_relu[0][0]']    \n",
            "                                                                                                  \n",
            " conv3_block2_3_bn (BatchNormal  (None, 13, 22, 512)  2048       ['conv3_block2_3_conv[0][0]']    \n",
            " ization)                                                                                         \n",
            "                                                                                                  \n",
            " conv3_block2_add (Add)         (None, 13, 22, 512)  0           ['conv3_block1_out[0][0]',       \n",
            "                                                                  'conv3_block2_3_bn[0][0]']      \n",
            "                                                                                                  \n",
            " conv3_block2_out (Activation)  (None, 13, 22, 512)  0           ['conv3_block2_add[0][0]']       \n",
            "                                                                                                  \n",
            " conv3_block3_1_conv (Conv2D)   (None, 13, 22, 128)  65664       ['conv3_block2_out[0][0]']       \n",
            "                                                                                                  \n",
            " conv3_block3_1_bn (BatchNormal  (None, 13, 22, 128)  512        ['conv3_block3_1_conv[0][0]']    \n",
            " ization)                                                                                         \n",
            "                                                                                                  \n",
            " conv3_block3_1_relu (Activatio  (None, 13, 22, 128)  0          ['conv3_block3_1_bn[0][0]']      \n",
            " n)                                                                                               \n",
            "                                                                                                  \n",
            " conv3_block3_2_conv (Conv2D)   (None, 13, 22, 128)  147584      ['conv3_block3_1_relu[0][0]']    \n",
            "                                                                                                  \n",
            " conv3_block3_2_bn (BatchNormal  (None, 13, 22, 128)  512        ['conv3_block3_2_conv[0][0]']    \n",
            " ization)                                                                                         \n",
            "                                                                                                  \n",
            " conv3_block3_2_relu (Activatio  (None, 13, 22, 128)  0          ['conv3_block3_2_bn[0][0]']      \n",
            " n)                                                                                               \n",
            "                                                                                                  \n",
            " conv3_block3_3_conv (Conv2D)   (None, 13, 22, 512)  66048       ['conv3_block3_2_relu[0][0]']    \n",
            "                                                                                                  \n",
            " conv3_block3_3_bn (BatchNormal  (None, 13, 22, 512)  2048       ['conv3_block3_3_conv[0][0]']    \n",
            " ization)                                                                                         \n",
            "                                                                                                  \n",
            " conv3_block3_add (Add)         (None, 13, 22, 512)  0           ['conv3_block2_out[0][0]',       \n",
            "                                                                  'conv3_block3_3_bn[0][0]']      \n",
            "                                                                                                  \n",
            " conv3_block3_out (Activation)  (None, 13, 22, 512)  0           ['conv3_block3_add[0][0]']       \n",
            "                                                                                                  \n",
            " conv3_block4_1_conv (Conv2D)   (None, 13, 22, 128)  65664       ['conv3_block3_out[0][0]']       \n",
            "                                                                                                  \n",
            " conv3_block4_1_bn (BatchNormal  (None, 13, 22, 128)  512        ['conv3_block4_1_conv[0][0]']    \n",
            " ization)                                                                                         \n",
            "                                                                                                  \n",
            " conv3_block4_1_relu (Activatio  (None, 13, 22, 128)  0          ['conv3_block4_1_bn[0][0]']      \n",
            " n)                                                                                               \n",
            "                                                                                                  \n",
            " conv3_block4_2_conv (Conv2D)   (None, 13, 22, 128)  147584      ['conv3_block4_1_relu[0][0]']    \n",
            "                                                                                                  \n",
            " conv3_block4_2_bn (BatchNormal  (None, 13, 22, 128)  512        ['conv3_block4_2_conv[0][0]']    \n",
            " ization)                                                                                         \n",
            "                                                                                                  \n",
            " conv3_block4_2_relu (Activatio  (None, 13, 22, 128)  0          ['conv3_block4_2_bn[0][0]']      \n",
            " n)                                                                                               \n",
            "                                                                                                  \n",
            " conv3_block4_3_conv (Conv2D)   (None, 13, 22, 512)  66048       ['conv3_block4_2_relu[0][0]']    \n",
            "                                                                                                  \n",
            " conv3_block4_3_bn (BatchNormal  (None, 13, 22, 512)  2048       ['conv3_block4_3_conv[0][0]']    \n",
            " ization)                                                                                         \n",
            "                                                                                                  \n",
            " conv3_block4_add (Add)         (None, 13, 22, 512)  0           ['conv3_block3_out[0][0]',       \n",
            "                                                                  'conv3_block4_3_bn[0][0]']      \n",
            "                                                                                                  \n",
            " conv3_block4_out (Activation)  (None, 13, 22, 512)  0           ['conv3_block4_add[0][0]']       \n",
            "                                                                                                  \n",
            " conv4_block1_1_conv (Conv2D)   (None, 7, 11, 256)   131328      ['conv3_block4_out[0][0]']       \n",
            "                                                                                                  \n",
            " conv4_block1_1_bn (BatchNormal  (None, 7, 11, 256)  1024        ['conv4_block1_1_conv[0][0]']    \n",
            " ization)                                                                                         \n",
            "                                                                                                  \n",
            " conv4_block1_1_relu (Activatio  (None, 7, 11, 256)  0           ['conv4_block1_1_bn[0][0]']      \n",
            " n)                                                                                               \n",
            "                                                                                                  \n",
            " conv4_block1_2_conv (Conv2D)   (None, 7, 11, 256)   590080      ['conv4_block1_1_relu[0][0]']    \n",
            "                                                                                                  \n",
            " conv4_block1_2_bn (BatchNormal  (None, 7, 11, 256)  1024        ['conv4_block1_2_conv[0][0]']    \n",
            " ization)                                                                                         \n",
            "                                                                                                  \n",
            " conv4_block1_2_relu (Activatio  (None, 7, 11, 256)  0           ['conv4_block1_2_bn[0][0]']      \n",
            " n)                                                                                               \n",
            "                                                                                                  \n",
            " conv4_block1_0_conv (Conv2D)   (None, 7, 11, 1024)  525312      ['conv3_block4_out[0][0]']       \n",
            "                                                                                                  \n",
            " conv4_block1_3_conv (Conv2D)   (None, 7, 11, 1024)  263168      ['conv4_block1_2_relu[0][0]']    \n",
            "                                                                                                  \n",
            " conv4_block1_0_bn (BatchNormal  (None, 7, 11, 1024)  4096       ['conv4_block1_0_conv[0][0]']    \n",
            " ization)                                                                                         \n",
            "                                                                                                  \n",
            " conv4_block1_3_bn (BatchNormal  (None, 7, 11, 1024)  4096       ['conv4_block1_3_conv[0][0]']    \n",
            " ization)                                                                                         \n",
            "                                                                                                  \n",
            " conv4_block1_add (Add)         (None, 7, 11, 1024)  0           ['conv4_block1_0_bn[0][0]',      \n",
            "                                                                  'conv4_block1_3_bn[0][0]']      \n",
            "                                                                                                  \n",
            " conv4_block1_out (Activation)  (None, 7, 11, 1024)  0           ['conv4_block1_add[0][0]']       \n",
            "                                                                                                  \n",
            " conv4_block2_1_conv (Conv2D)   (None, 7, 11, 256)   262400      ['conv4_block1_out[0][0]']       \n",
            "                                                                                                  \n",
            " conv4_block2_1_bn (BatchNormal  (None, 7, 11, 256)  1024        ['conv4_block2_1_conv[0][0]']    \n",
            " ization)                                                                                         \n",
            "                                                                                                  \n",
            " conv4_block2_1_relu (Activatio  (None, 7, 11, 256)  0           ['conv4_block2_1_bn[0][0]']      \n",
            " n)                                                                                               \n",
            "                                                                                                  \n",
            " conv4_block2_2_conv (Conv2D)   (None, 7, 11, 256)   590080      ['conv4_block2_1_relu[0][0]']    \n",
            "                                                                                                  \n",
            " conv4_block2_2_bn (BatchNormal  (None, 7, 11, 256)  1024        ['conv4_block2_2_conv[0][0]']    \n",
            " ization)                                                                                         \n",
            "                                                                                                  \n",
            " conv4_block2_2_relu (Activatio  (None, 7, 11, 256)  0           ['conv4_block2_2_bn[0][0]']      \n",
            " n)                                                                                               \n",
            "                                                                                                  \n",
            " conv4_block2_3_conv (Conv2D)   (None, 7, 11, 1024)  263168      ['conv4_block2_2_relu[0][0]']    \n",
            "                                                                                                  \n",
            " conv4_block2_3_bn (BatchNormal  (None, 7, 11, 1024)  4096       ['conv4_block2_3_conv[0][0]']    \n",
            " ization)                                                                                         \n",
            "                                                                                                  \n",
            " conv4_block2_add (Add)         (None, 7, 11, 1024)  0           ['conv4_block1_out[0][0]',       \n",
            "                                                                  'conv4_block2_3_bn[0][0]']      \n",
            "                                                                                                  \n",
            " conv4_block2_out (Activation)  (None, 7, 11, 1024)  0           ['conv4_block2_add[0][0]']       \n",
            "                                                                                                  \n",
            " conv4_block3_1_conv (Conv2D)   (None, 7, 11, 256)   262400      ['conv4_block2_out[0][0]']       \n",
            "                                                                                                  \n",
            " conv4_block3_1_bn (BatchNormal  (None, 7, 11, 256)  1024        ['conv4_block3_1_conv[0][0]']    \n",
            " ization)                                                                                         \n",
            "                                                                                                  \n",
            " conv4_block3_1_relu (Activatio  (None, 7, 11, 256)  0           ['conv4_block3_1_bn[0][0]']      \n",
            " n)                                                                                               \n",
            "                                                                                                  \n",
            " conv4_block3_2_conv (Conv2D)   (None, 7, 11, 256)   590080      ['conv4_block3_1_relu[0][0]']    \n",
            "                                                                                                  \n",
            " conv4_block3_2_bn (BatchNormal  (None, 7, 11, 256)  1024        ['conv4_block3_2_conv[0][0]']    \n",
            " ization)                                                                                         \n",
            "                                                                                                  \n",
            " conv4_block3_2_relu (Activatio  (None, 7, 11, 256)  0           ['conv4_block3_2_bn[0][0]']      \n",
            " n)                                                                                               \n",
            "                                                                                                  \n",
            " conv4_block3_3_conv (Conv2D)   (None, 7, 11, 1024)  263168      ['conv4_block3_2_relu[0][0]']    \n",
            "                                                                                                  \n",
            " conv4_block3_3_bn (BatchNormal  (None, 7, 11, 1024)  4096       ['conv4_block3_3_conv[0][0]']    \n",
            " ization)                                                                                         \n",
            "                                                                                                  \n",
            " conv4_block3_add (Add)         (None, 7, 11, 1024)  0           ['conv4_block2_out[0][0]',       \n",
            "                                                                  'conv4_block3_3_bn[0][0]']      \n",
            "                                                                                                  \n",
            " conv4_block3_out (Activation)  (None, 7, 11, 1024)  0           ['conv4_block3_add[0][0]']       \n",
            "                                                                                                  \n",
            " conv4_block4_1_conv (Conv2D)   (None, 7, 11, 256)   262400      ['conv4_block3_out[0][0]']       \n",
            "                                                                                                  \n",
            " conv4_block4_1_bn (BatchNormal  (None, 7, 11, 256)  1024        ['conv4_block4_1_conv[0][0]']    \n",
            " ization)                                                                                         \n",
            "                                                                                                  \n",
            " conv4_block4_1_relu (Activatio  (None, 7, 11, 256)  0           ['conv4_block4_1_bn[0][0]']      \n",
            " n)                                                                                               \n",
            "                                                                                                  \n",
            " conv4_block4_2_conv (Conv2D)   (None, 7, 11, 256)   590080      ['conv4_block4_1_relu[0][0]']    \n",
            "                                                                                                  \n",
            " conv4_block4_2_bn (BatchNormal  (None, 7, 11, 256)  1024        ['conv4_block4_2_conv[0][0]']    \n",
            " ization)                                                                                         \n",
            "                                                                                                  \n",
            " conv4_block4_2_relu (Activatio  (None, 7, 11, 256)  0           ['conv4_block4_2_bn[0][0]']      \n",
            " n)                                                                                               \n",
            "                                                                                                  \n",
            " conv4_block4_3_conv (Conv2D)   (None, 7, 11, 1024)  263168      ['conv4_block4_2_relu[0][0]']    \n",
            "                                                                                                  \n",
            " conv4_block4_3_bn (BatchNormal  (None, 7, 11, 1024)  4096       ['conv4_block4_3_conv[0][0]']    \n",
            " ization)                                                                                         \n",
            "                                                                                                  \n",
            " conv4_block4_add (Add)         (None, 7, 11, 1024)  0           ['conv4_block3_out[0][0]',       \n",
            "                                                                  'conv4_block4_3_bn[0][0]']      \n",
            "                                                                                                  \n",
            " conv4_block4_out (Activation)  (None, 7, 11, 1024)  0           ['conv4_block4_add[0][0]']       \n",
            "                                                                                                  \n",
            " conv4_block5_1_conv (Conv2D)   (None, 7, 11, 256)   262400      ['conv4_block4_out[0][0]']       \n",
            "                                                                                                  \n",
            " conv4_block5_1_bn (BatchNormal  (None, 7, 11, 256)  1024        ['conv4_block5_1_conv[0][0]']    \n",
            " ization)                                                                                         \n",
            "                                                                                                  \n",
            " conv4_block5_1_relu (Activatio  (None, 7, 11, 256)  0           ['conv4_block5_1_bn[0][0]']      \n",
            " n)                                                                                               \n",
            "                                                                                                  \n",
            " conv4_block5_2_conv (Conv2D)   (None, 7, 11, 256)   590080      ['conv4_block5_1_relu[0][0]']    \n",
            "                                                                                                  \n",
            " conv4_block5_2_bn (BatchNormal  (None, 7, 11, 256)  1024        ['conv4_block5_2_conv[0][0]']    \n",
            " ization)                                                                                         \n",
            "                                                                                                  \n",
            " conv4_block5_2_relu (Activatio  (None, 7, 11, 256)  0           ['conv4_block5_2_bn[0][0]']      \n",
            " n)                                                                                               \n",
            "                                                                                                  \n",
            " conv4_block5_3_conv (Conv2D)   (None, 7, 11, 1024)  263168      ['conv4_block5_2_relu[0][0]']    \n",
            "                                                                                                  \n",
            " conv4_block5_3_bn (BatchNormal  (None, 7, 11, 1024)  4096       ['conv4_block5_3_conv[0][0]']    \n",
            " ization)                                                                                         \n",
            "                                                                                                  \n",
            " conv4_block5_add (Add)         (None, 7, 11, 1024)  0           ['conv4_block4_out[0][0]',       \n",
            "                                                                  'conv4_block5_3_bn[0][0]']      \n",
            "                                                                                                  \n",
            " conv4_block5_out (Activation)  (None, 7, 11, 1024)  0           ['conv4_block5_add[0][0]']       \n",
            "                                                                                                  \n",
            " conv4_block6_1_conv (Conv2D)   (None, 7, 11, 256)   262400      ['conv4_block5_out[0][0]']       \n",
            "                                                                                                  \n",
            " conv4_block6_1_bn (BatchNormal  (None, 7, 11, 256)  1024        ['conv4_block6_1_conv[0][0]']    \n",
            " ization)                                                                                         \n",
            "                                                                                                  \n",
            " conv4_block6_1_relu (Activatio  (None, 7, 11, 256)  0           ['conv4_block6_1_bn[0][0]']      \n",
            " n)                                                                                               \n",
            "                                                                                                  \n",
            " conv4_block6_2_conv (Conv2D)   (None, 7, 11, 256)   590080      ['conv4_block6_1_relu[0][0]']    \n",
            "                                                                                                  \n",
            " conv4_block6_2_bn (BatchNormal  (None, 7, 11, 256)  1024        ['conv4_block6_2_conv[0][0]']    \n",
            " ization)                                                                                         \n",
            "                                                                                                  \n",
            " conv4_block6_2_relu (Activatio  (None, 7, 11, 256)  0           ['conv4_block6_2_bn[0][0]']      \n",
            " n)                                                                                               \n",
            "                                                                                                  \n",
            " conv4_block6_3_conv (Conv2D)   (None, 7, 11, 1024)  263168      ['conv4_block6_2_relu[0][0]']    \n",
            "                                                                                                  \n",
            " conv4_block6_3_bn (BatchNormal  (None, 7, 11, 1024)  4096       ['conv4_block6_3_conv[0][0]']    \n",
            " ization)                                                                                         \n",
            "                                                                                                  \n",
            " conv4_block6_add (Add)         (None, 7, 11, 1024)  0           ['conv4_block5_out[0][0]',       \n",
            "                                                                  'conv4_block6_3_bn[0][0]']      \n",
            "                                                                                                  \n",
            " conv4_block6_out (Activation)  (None, 7, 11, 1024)  0           ['conv4_block6_add[0][0]']       \n",
            "                                                                                                  \n",
            " conv5_block1_1_conv (Conv2D)   (None, 4, 6, 512)    524800      ['conv4_block6_out[0][0]']       \n",
            "                                                                                                  \n",
            " conv5_block1_1_bn (BatchNormal  (None, 4, 6, 512)   2048        ['conv5_block1_1_conv[0][0]']    \n",
            " ization)                                                                                         \n",
            "                                                                                                  \n",
            " conv5_block1_1_relu (Activatio  (None, 4, 6, 512)   0           ['conv5_block1_1_bn[0][0]']      \n",
            " n)                                                                                               \n",
            "                                                                                                  \n",
            " conv5_block1_2_conv (Conv2D)   (None, 4, 6, 512)    2359808     ['conv5_block1_1_relu[0][0]']    \n",
            "                                                                                                  \n",
            " conv5_block1_2_bn (BatchNormal  (None, 4, 6, 512)   2048        ['conv5_block1_2_conv[0][0]']    \n",
            " ization)                                                                                         \n",
            "                                                                                                  \n",
            " conv5_block1_2_relu (Activatio  (None, 4, 6, 512)   0           ['conv5_block1_2_bn[0][0]']      \n",
            " n)                                                                                               \n",
            "                                                                                                  \n",
            " conv5_block1_0_conv (Conv2D)   (None, 4, 6, 2048)   2099200     ['conv4_block6_out[0][0]']       \n",
            "                                                                                                  \n",
            " conv5_block1_3_conv (Conv2D)   (None, 4, 6, 2048)   1050624     ['conv5_block1_2_relu[0][0]']    \n",
            "                                                                                                  \n",
            " conv5_block1_0_bn (BatchNormal  (None, 4, 6, 2048)  8192        ['conv5_block1_0_conv[0][0]']    \n",
            " ization)                                                                                         \n",
            "                                                                                                  \n",
            " conv5_block1_3_bn (BatchNormal  (None, 4, 6, 2048)  8192        ['conv5_block1_3_conv[0][0]']    \n",
            " ization)                                                                                         \n",
            "                                                                                                  \n",
            " conv5_block1_add (Add)         (None, 4, 6, 2048)   0           ['conv5_block1_0_bn[0][0]',      \n",
            "                                                                  'conv5_block1_3_bn[0][0]']      \n",
            "                                                                                                  \n",
            " conv5_block1_out (Activation)  (None, 4, 6, 2048)   0           ['conv5_block1_add[0][0]']       \n",
            "                                                                                                  \n",
            " conv5_block2_1_conv (Conv2D)   (None, 4, 6, 512)    1049088     ['conv5_block1_out[0][0]']       \n",
            "                                                                                                  \n",
            " conv5_block2_1_bn (BatchNormal  (None, 4, 6, 512)   2048        ['conv5_block2_1_conv[0][0]']    \n",
            " ization)                                                                                         \n",
            "                                                                                                  \n",
            " conv5_block2_1_relu (Activatio  (None, 4, 6, 512)   0           ['conv5_block2_1_bn[0][0]']      \n",
            " n)                                                                                               \n",
            "                                                                                                  \n",
            " conv5_block2_2_conv (Conv2D)   (None, 4, 6, 512)    2359808     ['conv5_block2_1_relu[0][0]']    \n",
            "                                                                                                  \n",
            " conv5_block2_2_bn (BatchNormal  (None, 4, 6, 512)   2048        ['conv5_block2_2_conv[0][0]']    \n",
            " ization)                                                                                         \n",
            "                                                                                                  \n",
            " conv5_block2_2_relu (Activatio  (None, 4, 6, 512)   0           ['conv5_block2_2_bn[0][0]']      \n",
            " n)                                                                                               \n",
            "                                                                                                  \n",
            " conv5_block2_3_conv (Conv2D)   (None, 4, 6, 2048)   1050624     ['conv5_block2_2_relu[0][0]']    \n",
            "                                                                                                  \n",
            " conv5_block2_3_bn (BatchNormal  (None, 4, 6, 2048)  8192        ['conv5_block2_3_conv[0][0]']    \n",
            " ization)                                                                                         \n",
            "                                                                                                  \n",
            " conv5_block2_add (Add)         (None, 4, 6, 2048)   0           ['conv5_block1_out[0][0]',       \n",
            "                                                                  'conv5_block2_3_bn[0][0]']      \n",
            "                                                                                                  \n",
            " conv5_block2_out (Activation)  (None, 4, 6, 2048)   0           ['conv5_block2_add[0][0]']       \n",
            "                                                                                                  \n",
            " conv5_block3_1_conv (Conv2D)   (None, 4, 6, 512)    1049088     ['conv5_block2_out[0][0]']       \n",
            "                                                                                                  \n",
            " conv5_block3_1_bn (BatchNormal  (None, 4, 6, 512)   2048        ['conv5_block3_1_conv[0][0]']    \n",
            " ization)                                                                                         \n",
            "                                                                                                  \n",
            " conv5_block3_1_relu (Activatio  (None, 4, 6, 512)   0           ['conv5_block3_1_bn[0][0]']      \n",
            " n)                                                                                               \n",
            "                                                                                                  \n",
            " conv5_block3_2_conv (Conv2D)   (None, 4, 6, 512)    2359808     ['conv5_block3_1_relu[0][0]']    \n",
            "                                                                                                  \n",
            " conv5_block3_2_bn (BatchNormal  (None, 4, 6, 512)   2048        ['conv5_block3_2_conv[0][0]']    \n",
            " ization)                                                                                         \n",
            "                                                                                                  \n",
            " conv5_block3_2_relu (Activatio  (None, 4, 6, 512)   0           ['conv5_block3_2_bn[0][0]']      \n",
            " n)                                                                                               \n",
            "                                                                                                  \n",
            " conv5_block3_3_conv (Conv2D)   (None, 4, 6, 2048)   1050624     ['conv5_block3_2_relu[0][0]']    \n",
            "                                                                                                  \n",
            " conv5_block3_3_bn (BatchNormal  (None, 4, 6, 2048)  8192        ['conv5_block3_3_conv[0][0]']    \n",
            " ization)                                                                                         \n",
            "                                                                                                  \n",
            " conv5_block3_add (Add)         (None, 4, 6, 2048)   0           ['conv5_block2_out[0][0]',       \n",
            "                                                                  'conv5_block3_3_bn[0][0]']      \n",
            "                                                                                                  \n",
            " conv5_block3_out (Activation)  (None, 4, 6, 2048)   0           ['conv5_block3_add[0][0]']       \n",
            "                                                                                                  \n",
            "==================================================================================================\n",
            "Total params: 23,587,712\n",
            "Trainable params: 23,534,592\n",
            "Non-trainable params: 53,120\n",
            "__________________________________________________________________________________________________\n",
            "49152\n"
          ]
        }
      ]
    },
    {
      "cell_type": "code",
      "source": [
        "feature_vector"
      ],
      "metadata": {
        "colab": {
          "base_uri": "https://localhost:8080/"
        },
        "id": "_Q0vbWnaaLoV",
        "outputId": "cc218838-d3fb-41f1-ef2a-ba2ba5acfaa2"
      },
      "execution_count": null,
      "outputs": [
        {
          "output_type": "execute_result",
          "data": {
            "text/plain": [
              "<KerasTensor: shape=(None, 49152) dtype=float32 (created by layer 'tf.reshape')>"
            ]
          },
          "metadata": {},
          "execution_count": 8
        }
      ]
    },
    {
      "cell_type": "code",
      "source": [
        "bcnn_model = Model(inputs=model_pretrained.input, outputs=feature_vector)\n",
        "\n",
        "# compile the model (should be done *after* setting layers to non-trainable)\n",
        "# bcnn_model.compile(optimizer='rmsprop', loss='binary_crossentropy', metrics=['accuracy'])\n",
        "\n",
        "# one_hot_labels = tf.keras.utils.to_categorical(labels, num_classes=numClasses)\n",
        "# bcnn_model.summary()\n",
        "# numClasses = 2\n",
        "# one_hot_labels = tf.keras.utils.to_categorical(y_train, num_classes=numClasses)\n",
        "# bcnn_model.fit(train_generator,epochs=10,batch_size=32)\n",
        "# temp = bcnn_model.predict(X_train, y_train)"
      ],
      "metadata": {
        "id": "xxdKGWVDfgV5"
      },
      "execution_count": null,
      "outputs": []
    },
    {
      "cell_type": "code",
      "source": [
        "# from sklearn.model_selection import train_test_split\n",
        "# X_train, X_test, y_train, y_test = train_test_split(data, labels, test_size=0.2, random_state=42)"
      ],
      "metadata": {
        "id": "8Q1JSgSrfi7l"
      },
      "execution_count": null,
      "outputs": []
    },
    {
      "cell_type": "code",
      "source": [
        "# type(X_train[0])\n",
        "# len(X_train)\n",
        "# len(one_hot_labels)\n",
        "# one_hot_labels"
      ],
      "metadata": {
        "id": "rMpez3vRlDXQ"
      },
      "execution_count": null,
      "outputs": []
    },
    {
      "cell_type": "code",
      "source": [
        "# len(X_train), len(X_train[0]), len(X_train[0][0])"
      ],
      "metadata": {
        "id": "tYjHoOVbbB37"
      },
      "execution_count": null,
      "outputs": []
    },
    {
      "cell_type": "code",
      "source": [
        "# len(y_train)"
      ],
      "metadata": {
        "id": "0FHM36uUbacp"
      },
      "execution_count": null,
      "outputs": []
    },
    {
      "cell_type": "code",
      "source": [
        "# X_train[-1].shape"
      ],
      "metadata": {
        "id": "OQmxOSp8zmrw"
      },
      "execution_count": null,
      "outputs": []
    },
    {
      "cell_type": "code",
      "source": [
        "# type((1, X_train[-1].shape))"
      ],
      "metadata": {
        "id": "BuXV31DVHo-j"
      },
      "execution_count": null,
      "outputs": []
    },
    {
      "cell_type": "code",
      "source": [
        "# prediction = bcnn_model.predict(np.reshape(X_train[-1], (1, *X_train[-1].shape)))\n",
        "# prediction.shape"
      ],
      "metadata": {
        "id": "4XUhzB30a_zv"
      },
      "execution_count": null,
      "outputs": []
    },
    {
      "cell_type": "code",
      "source": [
        "# prediction"
      ],
      "metadata": {
        "id": "LHU8dibJIIct"
      },
      "execution_count": null,
      "outputs": []
    },
    {
      "cell_type": "code",
      "source": [
        "# (prediction[10][8000])"
      ],
      "metadata": {
        "id": "rnD62Klu0u0v"
      },
      "execution_count": null,
      "outputs": []
    },
    {
      "cell_type": "code",
      "source": [
        "# model.predict()"
      ],
      "metadata": {
        "id": "3Igztv8h6xm6"
      },
      "execution_count": null,
      "outputs": []
    },
    {
      "cell_type": "markdown",
      "source": [
        "# NetworkX + StellarGraph Demo"
      ],
      "metadata": {
        "id": "GM-nu-g04XPg"
      }
    },
    {
      "cell_type": "code",
      "source": [
        "n_nodes = 32\n",
        "G = nx.path_graph(n_nodes)"
      ],
      "metadata": {
        "id": "H-XtCC0Y4byD"
      },
      "execution_count": null,
      "outputs": []
    },
    {
      "cell_type": "code",
      "source": [
        "G.edges()"
      ],
      "metadata": {
        "colab": {
          "base_uri": "https://localhost:8080/"
        },
        "id": "2XJFUq2F67m2",
        "outputId": "e066ffdd-5928-48df-de5b-d497a2220517"
      },
      "execution_count": null,
      "outputs": [
        {
          "output_type": "execute_result",
          "data": {
            "text/plain": [
              "EdgeView([(0, 1), (1, 2), (2, 3), (3, 4), (4, 5), (5, 6), (6, 7), (7, 8), (8, 9), (9, 10), (10, 11), (11, 12), (12, 13), (13, 14), (14, 15), (15, 16), (16, 17), (17, 18), (18, 19), (19, 20), (20, 21), (21, 22), (22, 23), (23, 24), (24, 25), (25, 26), (26, 27), (27, 28), (28, 29), (29, 30), (30, 31)])"
            ]
          },
          "metadata": {},
          "execution_count": 20
        }
      ]
    },
    {
      "cell_type": "code",
      "source": [
        "# prediction.flatten()"
      ],
      "metadata": {
        "colab": {
          "base_uri": "https://localhost:8080/",
          "height": 165
        },
        "id": "yeUfoXnxLdGG",
        "outputId": "65fe5c56-299d-4b66-a13d-02e108f974c9"
      },
      "execution_count": null,
      "outputs": [
        {
          "output_type": "error",
          "ename": "NameError",
          "evalue": "ignored",
          "traceback": [
            "\u001b[0;31m---------------------------------------------------------------------------\u001b[0m",
            "\u001b[0;31mNameError\u001b[0m                                 Traceback (most recent call last)",
            "\u001b[0;32m<ipython-input-21-067c80d19f12>\u001b[0m in \u001b[0;36m<module>\u001b[0;34m()\u001b[0m\n\u001b[0;32m----> 1\u001b[0;31m \u001b[0mprediction\u001b[0m\u001b[0;34m.\u001b[0m\u001b[0mflatten\u001b[0m\u001b[0;34m(\u001b[0m\u001b[0;34m)\u001b[0m\u001b[0;34m\u001b[0m\u001b[0;34m\u001b[0m\u001b[0m\n\u001b[0m",
            "\u001b[0;31mNameError\u001b[0m: name 'prediction' is not defined"
          ]
        }
      ]
    },
    {
      "cell_type": "code",
      "source": [
        "nx.set_node_attributes(G, prediction.flatten(), name=\"features\")\n",
        "  # G.nodes(prediction[i])"
      ],
      "metadata": {
        "id": "ZO2z68fi9Rqb"
      },
      "execution_count": null,
      "outputs": []
    },
    {
      "cell_type": "code",
      "source": [
        "nx.get_node_attributes(G, \"features\")"
      ],
      "metadata": {
        "id": "KosFL6bv-hBg"
      },
      "execution_count": null,
      "outputs": []
    },
    {
      "cell_type": "code",
      "source": [
        "sg_graph = StellarGraph.from_networkx(G, node_features=\"features\")"
      ],
      "metadata": {
        "id": "BBDsIlEa9JX7"
      },
      "execution_count": null,
      "outputs": []
    },
    {
      "cell_type": "code",
      "source": [
        "print(sg_graph.info())"
      ],
      "metadata": {
        "id": "UfjLsUmP_VYf"
      },
      "execution_count": null,
      "outputs": []
    },
    {
      "cell_type": "markdown",
      "source": [
        "# Entire dataset -> StellarGraphs"
      ],
      "metadata": {
        "id": "-wtmfiOZBGXY"
      }
    },
    {
      "cell_type": "code",
      "source": [
        "#Change dataset directory path here\n",
        "#Directory should contain 2 folders, Swiping Up and Swiping Down\n",
        "#These 2 folders should contain sub-folders where each sub-folder is numbered and contains all frames of 1 video\n",
        "# Example\n",
        "# dir = /content/drive/MyDrive/DIP/Group 10/Dataset/\n",
        "#\n",
        "#dir\n",
        "#--->Swiping Up\n",
        "#---|----->60\n",
        "#---------|-->00001.jpg\n",
        "#---------|-->....\n",
        "#---------|-->00036.jpg\n",
        "#---|----->....\n",
        "#--->Swiping Down\n",
        "#---|----->67\n",
        "#---------|-->00001.jpg\n",
        "#---------|-->....\n",
        "#---------|-->00036.jpg\n",
        "#---|----->....\n",
        "\n",
        "dataset_dir = '/content/drive/MyDrive/Computer Vision/Dynamic Gesture Recognition/Dataset/'"
      ],
      "metadata": {
        "id": "9zIq5w0gBNwS"
      },
      "execution_count": null,
      "outputs": []
    },
    {
      "cell_type": "code",
      "source": [
        "labels_list = []\n",
        "list_of_graphs = []"
      ],
      "metadata": {
        "id": "sW3CMKMhDoly"
      },
      "execution_count": null,
      "outputs": []
    },
    {
      "cell_type": "code",
      "source": [
        "## This cell has been commented out since it is not involved in the demo, it is only used to quickly load already preprocessed data\n",
        "\n",
        "# path = '/content/drive/MyDrive/Computer Vision/Dynamic Gesture Recognition/'\n",
        "\n",
        "# pickle_in = open(path + 'labels_list50.pickle', 'rb')\n",
        "# labels_list = pickle.load(pickle_in)\n",
        "# pickle_in.close()\n",
        "\n",
        "# pickle_in = open(path + 'graph_list50.pickle', 'rb')\n",
        "# list_of_graphs = pickle.load(pickle_in)\n",
        "# pickle_in.close()"
      ],
      "metadata": {
        "id": "dQQ1NgGsxt3P"
      },
      "execution_count": null,
      "outputs": []
    },
    {
      "cell_type": "code",
      "source": [
        "#Should be empty for demo, len = 0\n",
        "len(list_of_graphs)"
      ],
      "metadata": {
        "colab": {
          "base_uri": "https://localhost:8080/"
        },
        "id": "kRCj2Ub5gstP",
        "outputId": "79d7799f-fa47-4b02-b3ca-56122aee3945"
      },
      "execution_count": null,
      "outputs": [
        {
          "output_type": "execute_result",
          "data": {
            "text/plain": [
              "100"
            ]
          },
          "metadata": {},
          "execution_count": 44
        }
      ]
    },
    {
      "cell_type": "code",
      "source": [
        "\n",
        "\n",
        "folder_limit = 50\n",
        "skip_folders = 200\n",
        "\n",
        "# 0 -> for Swiping Up\n",
        "# 1 -> for Swiping Down\n",
        "\n",
        "#Swiping Up\n",
        "f_cnt = 0\n",
        "for folders in glob.glob(dataset_dir+'Swiping Up/*/'):\n",
        "  fv_list = []\n",
        "  img_cnt = 0\n",
        "  print(f_cnt)\n",
        "  if(f_cnt == folder_limit + skip_folders):\n",
        "    break\n",
        "\n",
        "  f_cnt += 1\n",
        "  if(f_cnt <= skip_folders):\n",
        "    continue\n",
        "  for images in glob.glob(folders+'/*.*'):\n",
        "    img_cnt += 1\n",
        "    image = tf.keras.preprocessing.image.load_img(images, color_mode=\"rgb\", target_size=(100, 176))\n",
        "    image = np.array(image)\n",
        "    fv_list.append(bcnn_model.predict(np.reshape(image, (1, *image.shape))).flatten())\n",
        "\n",
        "  G = nx.path_graph(img_cnt)\n",
        "  fv_dict = {k: v for k, v in enumerate(fv_list)}\n",
        "  nx.set_node_attributes(G, fv_dict, name=\"features\")\n",
        "\n",
        "  sg_graph = StellarGraph.from_networkx(G, node_features=\"features\")\n",
        "  list_of_graphs.append(sg_graph)\n",
        "  labels_list.append(0)\n",
        "\n",
        "#Swiping Down\n",
        "f_cnt = 0\n",
        "for folders in glob.glob(dataset_dir+'Swiping Down/*/'):\n",
        "  fv_list = []\n",
        "  img_cnt = 0\n",
        "  if(f_cnt == folder_limit+skip_folders):\n",
        "    break\n",
        "\n",
        "  f_cnt += 1\n",
        "  if(f_cnt <= skip_folders):\n",
        "    continue\n",
        "  for images in glob.glob(folders+'/*.*'):\n",
        "    img_cnt += 1\n",
        "    image = tf.keras.preprocessing.image.load_img(images, color_mode=\"rgb\", target_size=(100, 176))\n",
        "    image = np.array(image)\n",
        "    fv_list.append(bcnn_model.predict(np.reshape(image, (1, *image.shape))).flatten())\n",
        "\n",
        "  G = nx.path_graph(img_cnt)\n",
        "  fv_dict = {k: v for k, v in enumerate(fv_list)}\n",
        "  nx.set_node_attributes(G, fv_dict, name=\"features\")\n",
        "\n",
        "  sg_graph = StellarGraph.from_networkx(G, node_features=\"features\")\n",
        "  list_of_graphs.append(sg_graph)\n",
        "  labels_list.append(1)"
      ],
      "metadata": {
        "colab": {
          "base_uri": "https://localhost:8080/"
        },
        "id": "a2MqxFmsEXSK",
        "outputId": "9792af33-b059-458a-e15c-6b66ccc9f502"
      },
      "execution_count": null,
      "outputs": [
        {
          "output_type": "stream",
          "name": "stdout",
          "text": [
            "0\n",
            "1\n",
            "2\n",
            "3\n",
            "4\n",
            "5\n",
            "6\n",
            "7\n",
            "8\n",
            "9\n",
            "10\n",
            "11\n",
            "12\n",
            "13\n",
            "14\n",
            "15\n",
            "16\n",
            "17\n",
            "18\n",
            "19\n",
            "20\n",
            "21\n",
            "22\n",
            "23\n",
            "24\n",
            "25\n",
            "26\n",
            "27\n",
            "28\n",
            "29\n",
            "30\n",
            "31\n",
            "32\n",
            "33\n",
            "34\n",
            "35\n",
            "36\n",
            "37\n",
            "38\n",
            "39\n",
            "40\n",
            "41\n",
            "42\n",
            "43\n",
            "44\n",
            "45\n",
            "46\n",
            "47\n",
            "48\n",
            "49\n",
            "50\n",
            "51\n",
            "52\n",
            "53\n",
            "54\n",
            "55\n",
            "56\n",
            "57\n",
            "58\n",
            "59\n",
            "60\n",
            "61\n",
            "62\n",
            "63\n",
            "64\n",
            "65\n",
            "66\n",
            "67\n",
            "68\n",
            "69\n",
            "70\n",
            "71\n",
            "72\n",
            "73\n",
            "74\n",
            "75\n",
            "76\n",
            "77\n",
            "78\n",
            "79\n",
            "80\n",
            "81\n",
            "82\n",
            "83\n",
            "84\n",
            "85\n",
            "86\n",
            "87\n",
            "88\n",
            "89\n",
            "90\n",
            "91\n",
            "92\n",
            "93\n",
            "94\n",
            "95\n",
            "96\n",
            "97\n",
            "98\n",
            "99\n",
            "100\n",
            "101\n",
            "102\n",
            "103\n",
            "104\n",
            "105\n",
            "106\n",
            "107\n",
            "108\n",
            "109\n",
            "110\n",
            "111\n",
            "112\n",
            "113\n",
            "114\n",
            "115\n",
            "116\n",
            "117\n",
            "118\n",
            "119\n",
            "120\n",
            "121\n",
            "122\n",
            "123\n",
            "124\n",
            "125\n",
            "126\n",
            "127\n",
            "128\n",
            "129\n",
            "130\n",
            "131\n",
            "132\n",
            "133\n",
            "134\n",
            "135\n",
            "136\n",
            "137\n",
            "138\n",
            "139\n",
            "140\n",
            "141\n",
            "142\n",
            "143\n",
            "144\n",
            "145\n",
            "146\n",
            "147\n",
            "148\n",
            "149\n",
            "150\n",
            "151\n",
            "152\n",
            "153\n",
            "154\n",
            "155\n",
            "156\n",
            "157\n",
            "158\n",
            "159\n",
            "160\n",
            "161\n",
            "162\n",
            "163\n",
            "164\n",
            "165\n",
            "166\n",
            "167\n",
            "168\n",
            "169\n",
            "170\n",
            "171\n",
            "172\n",
            "173\n",
            "174\n",
            "175\n",
            "176\n",
            "177\n",
            "178\n",
            "179\n",
            "180\n",
            "181\n",
            "182\n",
            "183\n",
            "184\n",
            "185\n",
            "186\n",
            "187\n",
            "188\n",
            "189\n",
            "190\n",
            "191\n",
            "192\n",
            "193\n",
            "194\n",
            "195\n",
            "196\n",
            "197\n",
            "198\n",
            "199\n",
            "200\n",
            "201\n",
            "202\n",
            "203\n",
            "204\n",
            "205\n",
            "206\n",
            "207\n",
            "208\n",
            "209\n",
            "210\n",
            "211\n",
            "212\n",
            "213\n",
            "214\n",
            "215\n",
            "216\n",
            "217\n",
            "218\n",
            "219\n",
            "220\n",
            "221\n",
            "222\n",
            "223\n",
            "224\n",
            "225\n",
            "226\n",
            "227\n",
            "228\n",
            "229\n",
            "230\n",
            "231\n",
            "232\n",
            "233\n",
            "234\n",
            "235\n",
            "236\n",
            "237\n",
            "238\n",
            "239\n",
            "240\n",
            "241\n",
            "242\n",
            "243\n",
            "244\n",
            "245\n",
            "246\n",
            "247\n",
            "248\n",
            "249\n",
            "250\n"
          ]
        }
      ]
    },
    {
      "cell_type": "code",
      "source": [
        "# fv_dict[1].shape"
      ],
      "metadata": {
        "id": "XF8vLXOJSbfJ"
      },
      "execution_count": null,
      "outputs": []
    },
    {
      "cell_type": "code",
      "source": [
        "print(list_of_graphs[-1].info())"
      ],
      "metadata": {
        "id": "IgUQoq8fVn5O",
        "colab": {
          "base_uri": "https://localhost:8080/"
        },
        "outputId": "9119e54e-ba42-46f0-bd42-83dda586d731"
      },
      "execution_count": null,
      "outputs": [
        {
          "output_type": "stream",
          "name": "stdout",
          "text": [
            "StellarGraph: Undirected multigraph\n",
            " Nodes: 37, Edges: 36\n",
            "\n",
            " Node types:\n",
            "  default: [37]\n",
            "    Features: float32 vector, length 49152\n",
            "    Edge types: default-default->default\n",
            "\n",
            " Edge types:\n",
            "    default-default->default: [36]\n",
            "        Weights: all 1 (default)\n",
            "        Features: none\n"
          ]
        }
      ]
    },
    {
      "cell_type": "code",
      "source": [
        "## Commented out since this is not involved in demo\n",
        "\n",
        "# path = '/content/drive/MyDrive/Computer Vision/Dynamic Gesture Recognition/'\n",
        "\n",
        "# pickle_out = open(path + 'labels_list50_skip200.pickle', 'wb')\n",
        "# pickle.dump(labels_list, pickle_out)\n",
        "# pickle_out.close()\n",
        "\n",
        "# pickle_out = open(path + 'graph_list50_skip200.pickle', 'wb')\n",
        "# pickle.dump(list_of_graphs, pickle_out)\n",
        "# pickle_out.close()"
      ],
      "metadata": {
        "id": "4YBq0Auhggvp"
      },
      "execution_count": null,
      "outputs": []
    },
    {
      "cell_type": "code",
      "source": [
        "# nx.get_node_attributes(G, \"features\")"
      ],
      "metadata": {
        "id": "bOjG8-qiRJz3"
      },
      "execution_count": null,
      "outputs": []
    },
    {
      "cell_type": "code",
      "source": [
        "# type(fv_dict[1])"
      ],
      "metadata": {
        "id": "5hAHRfKHQuDn"
      },
      "execution_count": null,
      "outputs": []
    },
    {
      "cell_type": "markdown",
      "source": [
        "# Training the model"
      ],
      "metadata": {
        "id": "LU3OrgKDOuVk"
      }
    },
    {
      "cell_type": "code",
      "source": [
        "gen = PaddedGraphGenerator(graphs=list_of_graphs)"
      ],
      "metadata": {
        "id": "LTroCLTcWQAc"
      },
      "execution_count": null,
      "outputs": []
    },
    {
      "cell_type": "code",
      "source": [
        "k = 35  # the number of rows for the output tensor\n",
        "layer_sizes = [32, 32, 32, 1]\n",
        "\n",
        "dgcnn_model = DeepGraphCNN(\n",
        "    layer_sizes=layer_sizes,\n",
        "    activations=[\"tanh\", \"relu\", \"relu\", \"tanh\"],\n",
        "    k=k,\n",
        "    bias=False,\n",
        "    generator=gen,\n",
        ")\n",
        "x_inp, x_out = dgcnn_model.in_out_tensors()"
      ],
      "metadata": {
        "id": "FjykB0LAW9fA"
      },
      "execution_count": null,
      "outputs": []
    },
    {
      "cell_type": "code",
      "source": [
        "from tensorflow.keras.layers import Dense, Conv1D, MaxPool1D, Dropout, Flatten, LeakyReLU\n",
        "\n",
        "x_out = Conv1D(filters=16, kernel_size=sum(layer_sizes), strides=sum(layer_sizes))(x_out)\n",
        "x_out = MaxPool1D(pool_size=2)(x_out)\n",
        "\n",
        "x_out = Conv1D(filters=32, kernel_size=5, strides=1)(x_out)\n",
        "\n",
        "x_out = Flatten()(x_out)\n",
        "\n",
        "x_out = Dense(units=128, activation=\"relu\")(x_out)\n",
        "x_out = Dropout(rate=0.5)(x_out)\n",
        "\n",
        "predictions = Dense(units=1, activation=\"sigmoid\")(x_out)"
      ],
      "metadata": {
        "id": "-y9vZHvbXCOg"
      },
      "execution_count": null,
      "outputs": []
    },
    {
      "cell_type": "code",
      "source": [
        "model = Model(inputs=x_inp, outputs=predictions)\n",
        "\n",
        "model.compile(\n",
        "    optimizer=Adam(learning_rate=0.0005), loss=binary_crossentropy, metrics=[\"acc\"],\n",
        ")"
      ],
      "metadata": {
        "id": "fOF8DJqaXTWb"
      },
      "execution_count": null,
      "outputs": []
    },
    {
      "cell_type": "code",
      "source": [
        "graph_labels = pd.DataFrame(labels_list, columns=['Labels'])\n",
        "graph_labels['Labels'] = graph_labels['Labels'].astype('category')\n",
        "graph_labels_encoded = graph_labels['Labels'].cat.codes"
      ],
      "metadata": {
        "id": "ah16YVVlZdq5"
      },
      "execution_count": null,
      "outputs": []
    },
    {
      "cell_type": "code",
      "source": [
        "train_graphs, test_graphs = model_selection.train_test_split(\n",
        "    graph_labels_encoded, train_size=0.8, test_size=None, stratify=graph_labels_encoded,\n",
        ")"
      ],
      "metadata": {
        "id": "yPvYCWmOXXfW"
      },
      "execution_count": null,
      "outputs": []
    },
    {
      "cell_type": "code",
      "source": [
        "train_gen = gen.flow(\n",
        "    list(train_graphs.index - 1),\n",
        "    targets=train_graphs.values,\n",
        "    batch_size=8,\n",
        "    symmetric_normalization=False,\n",
        ")\n",
        "\n",
        "test_gen = gen.flow(\n",
        "    list(test_graphs.index - 1),\n",
        "    targets=test_graphs.values,\n",
        "    batch_size=1,\n",
        "    symmetric_normalization=False,\n",
        ")"
      ],
      "metadata": {
        "id": "B-8bGy9qXc1f"
      },
      "execution_count": null,
      "outputs": []
    },
    {
      "cell_type": "code",
      "source": [
        "epochs = 50"
      ],
      "metadata": {
        "id": "JNw9yzYAXih7"
      },
      "execution_count": null,
      "outputs": []
    },
    {
      "cell_type": "code",
      "source": [
        "# !mkdir '/content/drive/MyDrive/Computer Vision/Dynamic Gesture Recognition/weights'"
      ],
      "metadata": {
        "id": "NPmSdv7Vamdg",
        "colab": {
          "base_uri": "https://localhost:8080/"
        },
        "outputId": "4c2a37c5-3309-4556-928a-26be04be7ff4"
      },
      "execution_count": null,
      "outputs": [
        {
          "output_type": "stream",
          "name": "stdout",
          "text": [
            "mkdir: cannot create directory ‘/content/drive/MyDrive/Computer Vision/Dynamic Gesture Recognition/weights’: File exists\n"
          ]
        }
      ]
    },
    {
      "cell_type": "code",
      "source": [
        "# cp_callback = tf.keras.callbacks.ModelCheckpoint(\n",
        "#     filepath='/content/drive/MyDrive/Computer Vision/Dynamic Gesture Recognition/weights/weights_epoch{epoch:02d}.ckpt',\n",
        "#     save_weights_only=True,\n",
        "#     verbose=1,\n",
        "#     save_best_only=True,\n",
        "#     monitor='val_loss')"
      ],
      "metadata": {
        "id": "dBPyPQZlaOnp"
      },
      "execution_count": null,
      "outputs": []
    },
    {
      "cell_type": "code",
      "source": [
        "# Link to existing weights\n",
        "# https://drive.google.com/drive/folders/1mt9uP0RI0tO8gXZBhZeFWYow_84qLTk9?usp=sharing\n",
        "# Copy it to your drive and change directory name to load weights, else model will give poor results\n",
        "\n",
        "model.load_weights('/content/drive/MyDrive/Computer Vision/Dynamic Gesture Recognition/weights/')"
      ],
      "metadata": {
        "id": "Q_h9jk_TDRoP",
        "colab": {
          "base_uri": "https://localhost:8080/"
        },
        "outputId": "9a5c63f8-34a0-40b1-b169-055d1dfc6fc5"
      },
      "execution_count": null,
      "outputs": [
        {
          "output_type": "execute_result",
          "data": {
            "text/plain": [
              "<tensorflow.python.training.tracking.util.CheckpointLoadStatus at 0x7fb3b5ec0f90>"
            ]
          },
          "metadata": {},
          "execution_count": 98
        }
      ]
    },
    {
      "cell_type": "code",
      "source": [
        "len(train_graphs)"
      ],
      "metadata": {
        "colab": {
          "base_uri": "https://localhost:8080/"
        },
        "id": "LP-sYJ-myYTp",
        "outputId": "ae0ca216-c029-4f64-9518-765f30780268"
      },
      "execution_count": null,
      "outputs": [
        {
          "output_type": "execute_result",
          "data": {
            "text/plain": [
              "80"
            ]
          },
          "metadata": {},
          "execution_count": 99
        }
      ]
    },
    {
      "cell_type": "code",
      "source": [
        "history = model.fit(\n",
        "    train_gen, epochs=epochs, verbose=1, validation_data=test_gen, shuffle=True, callbacks=[cp_callback]\n",
        ")"
      ],
      "metadata": {
        "id": "nnMn2Q_2Xj_5",
        "colab": {
          "base_uri": "https://localhost:8080/"
        },
        "outputId": "a6c31ec5-1875-4eb4-feb5-cc99e48c176d"
      },
      "execution_count": null,
      "outputs": [
        {
          "output_type": "stream",
          "name": "stdout",
          "text": [
            "Epoch 1/50\n"
          ]
        },
        {
          "output_type": "stream",
          "name": "stderr",
          "text": [
            "/usr/local/lib/python3.7/dist-packages/tensorflow/python/framework/indexed_slices.py:446: UserWarning: Converting sparse IndexedSlices(IndexedSlices(indices=Tensor(\"gradient_tape/model_5/sort_pooling_3/map/while/gradients/model_5/sort_pooling_3/map/while/GatherV2_grad/Reshape_1:0\", shape=(None,), dtype=int32), values=Tensor(\"gradient_tape/model_5/sort_pooling_3/map/while/gradients/model_5/sort_pooling_3/map/while/GatherV2_grad/Reshape:0\", shape=(None, None), dtype=float32), dense_shape=Tensor(\"gradient_tape/model_5/sort_pooling_3/map/while/gradients/model_5/sort_pooling_3/map/while/GatherV2_grad/Cast:0\", shape=(2,), dtype=int32))) to a dense Tensor of unknown shape. This may consume a large amount of memory.\n",
            "  \"shape. This may consume a large amount of memory.\" % value)\n"
          ]
        },
        {
          "output_type": "stream",
          "name": "stdout",
          "text": [
            "10/10 [==============================] - ETA: 0s - loss: 0.8506 - acc: 0.8375\n",
            "Epoch 1: val_loss improved from inf to 0.38043, saving model to /content/drive/MyDrive/Computer Vision/Dynamic Gesture Recognition/weights/weights_epoch01.ckpt\n",
            "10/10 [==============================] - 5s 308ms/step - loss: 0.8506 - acc: 0.8375 - val_loss: 0.3804 - val_acc: 0.8500\n",
            "Epoch 2/50\n",
            "10/10 [==============================] - ETA: 0s - loss: 0.4318 - acc: 0.8375\n",
            "Epoch 2: val_loss improved from 0.38043 to 0.26490, saving model to /content/drive/MyDrive/Computer Vision/Dynamic Gesture Recognition/weights/weights_epoch02.ckpt\n",
            "10/10 [==============================] - 2s 239ms/step - loss: 0.4318 - acc: 0.8375 - val_loss: 0.2649 - val_acc: 0.9000\n",
            "Epoch 3/50\n",
            "10/10 [==============================] - ETA: 0s - loss: 0.3356 - acc: 0.8875\n",
            "Epoch 3: val_loss improved from 0.26490 to 0.19043, saving model to /content/drive/MyDrive/Computer Vision/Dynamic Gesture Recognition/weights/weights_epoch03.ckpt\n",
            "10/10 [==============================] - 3s 260ms/step - loss: 0.3356 - acc: 0.8875 - val_loss: 0.1904 - val_acc: 0.9500\n",
            "Epoch 4/50\n",
            "10/10 [==============================] - ETA: 0s - loss: 0.3894 - acc: 0.8750\n",
            "Epoch 4: val_loss did not improve from 0.19043\n",
            "10/10 [==============================] - 2s 235ms/step - loss: 0.3894 - acc: 0.8750 - val_loss: 0.5906 - val_acc: 0.5500\n",
            "Epoch 5/50\n",
            "10/10 [==============================] - ETA: 0s - loss: 0.4171 - acc: 0.8125\n",
            "Epoch 5: val_loss improved from 0.19043 to 0.19032, saving model to /content/drive/MyDrive/Computer Vision/Dynamic Gesture Recognition/weights/weights_epoch05.ckpt\n",
            "10/10 [==============================] - 3s 262ms/step - loss: 0.4171 - acc: 0.8125 - val_loss: 0.1903 - val_acc: 0.9500\n",
            "Epoch 6/50\n",
            "10/10 [==============================] - ETA: 0s - loss: 0.2513 - acc: 0.9375\n",
            "Epoch 6: val_loss did not improve from 0.19032\n",
            "10/10 [==============================] - 2s 228ms/step - loss: 0.2513 - acc: 0.9375 - val_loss: 0.2350 - val_acc: 0.9500\n",
            "Epoch 7/50\n",
            "10/10 [==============================] - ETA: 0s - loss: 0.2805 - acc: 0.9375\n",
            "Epoch 7: val_loss did not improve from 0.19032\n",
            "10/10 [==============================] - 2s 242ms/step - loss: 0.2805 - acc: 0.9375 - val_loss: 0.2232 - val_acc: 0.9500\n",
            "Epoch 8/50\n",
            "10/10 [==============================] - ETA: 0s - loss: 0.3359 - acc: 0.9250\n",
            "Epoch 8: val_loss did not improve from 0.19032\n",
            "10/10 [==============================] - 2s 240ms/step - loss: 0.3359 - acc: 0.9250 - val_loss: 0.3555 - val_acc: 0.9000\n",
            "Epoch 9/50\n",
            "10/10 [==============================] - ETA: 0s - loss: 0.3127 - acc: 0.9375\n",
            "Epoch 9: val_loss did not improve from 0.19032\n",
            "10/10 [==============================] - 2s 225ms/step - loss: 0.3127 - acc: 0.9375 - val_loss: 0.2012 - val_acc: 0.9500\n",
            "Epoch 10/50\n",
            "10/10 [==============================] - ETA: 0s - loss: 0.2330 - acc: 0.9625\n",
            "Epoch 10: val_loss improved from 0.19032 to 0.12112, saving model to /content/drive/MyDrive/Computer Vision/Dynamic Gesture Recognition/weights/weights_epoch10.ckpt\n",
            "10/10 [==============================] - 2s 244ms/step - loss: 0.2330 - acc: 0.9625 - val_loss: 0.1211 - val_acc: 1.0000\n",
            "Epoch 11/50\n",
            "10/10 [==============================] - ETA: 0s - loss: 0.1917 - acc: 0.9500\n",
            "Epoch 11: val_loss did not improve from 0.12112\n",
            "10/10 [==============================] - 2s 226ms/step - loss: 0.1917 - acc: 0.9500 - val_loss: 0.1864 - val_acc: 0.9500\n",
            "Epoch 12/50\n",
            "10/10 [==============================] - ETA: 0s - loss: 0.2864 - acc: 0.9500\n",
            "Epoch 12: val_loss did not improve from 0.12112\n",
            "10/10 [==============================] - 2s 221ms/step - loss: 0.2864 - acc: 0.9500 - val_loss: 0.1715 - val_acc: 0.9500\n",
            "Epoch 13/50\n",
            "10/10 [==============================] - ETA: 0s - loss: 0.2489 - acc: 0.9500\n",
            "Epoch 13: val_loss did not improve from 0.12112\n",
            "10/10 [==============================] - 2s 225ms/step - loss: 0.2489 - acc: 0.9500 - val_loss: 0.2375 - val_acc: 0.9500\n",
            "Epoch 14/50\n",
            "10/10 [==============================] - ETA: 0s - loss: 0.1478 - acc: 0.9625\n",
            "Epoch 14: val_loss did not improve from 0.12112\n",
            "10/10 [==============================] - 2s 227ms/step - loss: 0.1478 - acc: 0.9625 - val_loss: 0.1724 - val_acc: 0.9000\n",
            "Epoch 15/50\n",
            "10/10 [==============================] - ETA: 0s - loss: 0.2117 - acc: 0.9500\n",
            "Epoch 15: val_loss did not improve from 0.12112\n",
            "10/10 [==============================] - 2s 225ms/step - loss: 0.2117 - acc: 0.9500 - val_loss: 0.1707 - val_acc: 0.9000\n",
            "Epoch 16/50\n",
            "10/10 [==============================] - ETA: 0s - loss: 0.1815 - acc: 0.9625\n",
            "Epoch 16: val_loss did not improve from 0.12112\n",
            "10/10 [==============================] - 2s 230ms/step - loss: 0.1815 - acc: 0.9625 - val_loss: 0.1289 - val_acc: 0.9500\n",
            "Epoch 17/50\n",
            "10/10 [==============================] - ETA: 0s - loss: 0.1971 - acc: 0.9500\n",
            "Epoch 17: val_loss did not improve from 0.12112\n",
            "10/10 [==============================] - 2s 235ms/step - loss: 0.1971 - acc: 0.9500 - val_loss: 0.1550 - val_acc: 0.9500\n",
            "Epoch 18/50\n",
            "10/10 [==============================] - ETA: 0s - loss: 0.2038 - acc: 0.9500\n",
            "Epoch 18: val_loss did not improve from 0.12112\n",
            "10/10 [==============================] - 2s 225ms/step - loss: 0.2038 - acc: 0.9500 - val_loss: 0.1411 - val_acc: 0.9500\n",
            "Epoch 19/50\n",
            "10/10 [==============================] - ETA: 0s - loss: 0.2051 - acc: 0.9500\n",
            "Epoch 19: val_loss did not improve from 0.12112\n",
            "10/10 [==============================] - 2s 224ms/step - loss: 0.2051 - acc: 0.9500 - val_loss: 0.1505 - val_acc: 0.9500\n",
            "Epoch 20/50\n",
            "10/10 [==============================] - ETA: 0s - loss: 0.2114 - acc: 0.9375\n",
            "Epoch 20: val_loss improved from 0.12112 to 0.09449, saving model to /content/drive/MyDrive/Computer Vision/Dynamic Gesture Recognition/weights/weights_epoch20.ckpt\n",
            "10/10 [==============================] - 2s 244ms/step - loss: 0.2114 - acc: 0.9375 - val_loss: 0.0945 - val_acc: 1.0000\n",
            "Epoch 21/50\n",
            "10/10 [==============================] - ETA: 0s - loss: 0.1864 - acc: 0.9375\n",
            "Epoch 21: val_loss did not improve from 0.09449\n",
            "10/10 [==============================] - 2s 237ms/step - loss: 0.1864 - acc: 0.9375 - val_loss: 0.1556 - val_acc: 0.9500\n",
            "Epoch 22/50\n",
            "10/10 [==============================] - ETA: 0s - loss: 0.1805 - acc: 0.9500\n",
            "Epoch 22: val_loss did not improve from 0.09449\n",
            "10/10 [==============================] - 2s 228ms/step - loss: 0.1805 - acc: 0.9500 - val_loss: 0.1313 - val_acc: 0.9500\n",
            "Epoch 23/50\n",
            "10/10 [==============================] - ETA: 0s - loss: 0.1770 - acc: 0.9500\n",
            "Epoch 23: val_loss improved from 0.09449 to 0.08498, saving model to /content/drive/MyDrive/Computer Vision/Dynamic Gesture Recognition/weights/weights_epoch23.ckpt\n",
            "10/10 [==============================] - 3s 250ms/step - loss: 0.1770 - acc: 0.9500 - val_loss: 0.0850 - val_acc: 0.9500\n",
            "Epoch 24/50\n",
            "10/10 [==============================] - ETA: 0s - loss: 0.2404 - acc: 0.9500\n",
            "Epoch 24: val_loss did not improve from 0.08498\n",
            "10/10 [==============================] - 2s 220ms/step - loss: 0.2404 - acc: 0.9500 - val_loss: 0.1195 - val_acc: 1.0000\n",
            "Epoch 25/50\n",
            "10/10 [==============================] - ETA: 0s - loss: 0.2184 - acc: 0.9500\n",
            "Epoch 25: val_loss did not improve from 0.08498\n",
            "10/10 [==============================] - 2s 222ms/step - loss: 0.2184 - acc: 0.9500 - val_loss: 0.1391 - val_acc: 1.0000\n",
            "Epoch 26/50\n",
            "10/10 [==============================] - ETA: 0s - loss: 0.2051 - acc: 0.9500\n",
            "Epoch 26: val_loss did not improve from 0.08498\n",
            "10/10 [==============================] - 2s 219ms/step - loss: 0.2051 - acc: 0.9500 - val_loss: 0.1225 - val_acc: 0.9500\n",
            "Epoch 27/50\n",
            "10/10 [==============================] - ETA: 0s - loss: 0.1654 - acc: 0.9625\n",
            "Epoch 27: val_loss did not improve from 0.08498\n",
            "10/10 [==============================] - 2s 225ms/step - loss: 0.1654 - acc: 0.9625 - val_loss: 0.1180 - val_acc: 0.9500\n",
            "Epoch 28/50\n",
            "10/10 [==============================] - ETA: 0s - loss: 0.2052 - acc: 0.9500\n",
            "Epoch 28: val_loss did not improve from 0.08498\n",
            "10/10 [==============================] - 2s 219ms/step - loss: 0.2052 - acc: 0.9500 - val_loss: 0.1262 - val_acc: 0.9500\n",
            "Epoch 29/50\n",
            "10/10 [==============================] - ETA: 0s - loss: 0.2002 - acc: 0.9500\n",
            "Epoch 29: val_loss did not improve from 0.08498\n",
            "10/10 [==============================] - 2s 219ms/step - loss: 0.2002 - acc: 0.9500 - val_loss: 0.1424 - val_acc: 0.9500\n",
            "Epoch 30/50\n",
            "10/10 [==============================] - ETA: 0s - loss: 0.2207 - acc: 0.9375\n",
            "Epoch 30: val_loss did not improve from 0.08498\n",
            "10/10 [==============================] - 2s 222ms/step - loss: 0.2207 - acc: 0.9375 - val_loss: 0.1110 - val_acc: 1.0000\n",
            "Epoch 31/50\n",
            "10/10 [==============================] - ETA: 0s - loss: 0.1907 - acc: 0.9500\n",
            "Epoch 31: val_loss did not improve from 0.08498\n",
            "10/10 [==============================] - 2s 216ms/step - loss: 0.1907 - acc: 0.9500 - val_loss: 0.1252 - val_acc: 0.9500\n",
            "Epoch 32/50\n",
            "10/10 [==============================] - ETA: 0s - loss: 0.2049 - acc: 0.9625\n",
            "Epoch 32: val_loss did not improve from 0.08498\n",
            "10/10 [==============================] - 2s 218ms/step - loss: 0.2049 - acc: 0.9625 - val_loss: 0.1891 - val_acc: 0.9000\n",
            "Epoch 33/50\n",
            "10/10 [==============================] - ETA: 0s - loss: 0.2067 - acc: 0.9500\n",
            "Epoch 33: val_loss did not improve from 0.08498\n",
            "10/10 [==============================] - 2s 217ms/step - loss: 0.2067 - acc: 0.9500 - val_loss: 0.0962 - val_acc: 1.0000\n",
            "Epoch 34/50\n",
            "10/10 [==============================] - ETA: 0s - loss: 0.2292 - acc: 0.9500\n",
            "Epoch 34: val_loss did not improve from 0.08498\n",
            "10/10 [==============================] - 2s 222ms/step - loss: 0.2292 - acc: 0.9500 - val_loss: 0.1111 - val_acc: 1.0000\n",
            "Epoch 35/50\n",
            "10/10 [==============================] - ETA: 0s - loss: 0.2072 - acc: 0.9375\n",
            "Epoch 35: val_loss did not improve from 0.08498\n",
            "10/10 [==============================] - 2s 218ms/step - loss: 0.2072 - acc: 0.9375 - val_loss: 0.1178 - val_acc: 1.0000\n",
            "Epoch 36/50\n",
            "10/10 [==============================] - ETA: 0s - loss: 0.1836 - acc: 0.9375\n",
            "Epoch 36: val_loss did not improve from 0.08498\n",
            "10/10 [==============================] - 2s 216ms/step - loss: 0.1836 - acc: 0.9375 - val_loss: 0.1005 - val_acc: 0.9500\n",
            "Epoch 37/50\n",
            "10/10 [==============================] - ETA: 0s - loss: 0.2111 - acc: 0.9375\n",
            "Epoch 37: val_loss did not improve from 0.08498\n",
            "10/10 [==============================] - 2s 223ms/step - loss: 0.2111 - acc: 0.9375 - val_loss: 0.1157 - val_acc: 0.9500\n",
            "Epoch 38/50\n",
            "10/10 [==============================] - ETA: 0s - loss: 0.1596 - acc: 0.9500\n",
            "Epoch 38: val_loss did not improve from 0.08498\n",
            "10/10 [==============================] - 2s 218ms/step - loss: 0.1596 - acc: 0.9500 - val_loss: 0.1203 - val_acc: 0.9500\n",
            "Epoch 39/50\n",
            "10/10 [==============================] - ETA: 0s - loss: 0.1817 - acc: 0.9500\n",
            "Epoch 39: val_loss did not improve from 0.08498\n",
            "10/10 [==============================] - 2s 246ms/step - loss: 0.1817 - acc: 0.9500 - val_loss: 0.1357 - val_acc: 0.9000\n",
            "Epoch 40/50\n",
            "10/10 [==============================] - ETA: 0s - loss: 0.1706 - acc: 0.9375\n",
            "Epoch 40: val_loss did not improve from 0.08498\n",
            "10/10 [==============================] - 2s 219ms/step - loss: 0.1706 - acc: 0.9375 - val_loss: 0.1414 - val_acc: 0.9500\n",
            "Epoch 41/50\n",
            "10/10 [==============================] - ETA: 0s - loss: 0.1792 - acc: 0.9500\n",
            "Epoch 41: val_loss did not improve from 0.08498\n",
            "10/10 [==============================] - 2s 221ms/step - loss: 0.1792 - acc: 0.9500 - val_loss: 0.1253 - val_acc: 0.9500\n",
            "Epoch 42/50\n",
            "10/10 [==============================] - ETA: 0s - loss: 0.1783 - acc: 0.9500\n",
            "Epoch 42: val_loss did not improve from 0.08498\n",
            "10/10 [==============================] - 2s 222ms/step - loss: 0.1783 - acc: 0.9500 - val_loss: 0.1330 - val_acc: 0.9500\n",
            "Epoch 43/50\n",
            "10/10 [==============================] - ETA: 0s - loss: 0.1744 - acc: 0.9500\n",
            "Epoch 43: val_loss did not improve from 0.08498\n",
            "10/10 [==============================] - 2s 223ms/step - loss: 0.1744 - acc: 0.9500 - val_loss: 0.2570 - val_acc: 0.9000\n",
            "Epoch 44/50\n",
            "10/10 [==============================] - ETA: 0s - loss: 0.1908 - acc: 0.9500\n",
            "Epoch 44: val_loss did not improve from 0.08498\n",
            "10/10 [==============================] - 2s 221ms/step - loss: 0.1908 - acc: 0.9500 - val_loss: 0.1677 - val_acc: 0.9000\n",
            "Epoch 45/50\n",
            "10/10 [==============================] - ETA: 0s - loss: 0.1633 - acc: 0.9500\n",
            "Epoch 45: val_loss did not improve from 0.08498\n",
            "10/10 [==============================] - 2s 212ms/step - loss: 0.1633 - acc: 0.9500 - val_loss: 0.1237 - val_acc: 0.9500\n",
            "Epoch 46/50\n",
            "10/10 [==============================] - ETA: 0s - loss: 0.2033 - acc: 0.9500\n",
            "Epoch 46: val_loss did not improve from 0.08498\n",
            "10/10 [==============================] - 2s 216ms/step - loss: 0.2033 - acc: 0.9500 - val_loss: 0.2395 - val_acc: 0.9500\n",
            "Epoch 47/50\n",
            "10/10 [==============================] - ETA: 0s - loss: 0.1501 - acc: 0.9625\n",
            "Epoch 47: val_loss did not improve from 0.08498\n",
            "10/10 [==============================] - 2s 219ms/step - loss: 0.1501 - acc: 0.9625 - val_loss: 0.1519 - val_acc: 0.9500\n",
            "Epoch 48/50\n",
            "10/10 [==============================] - ETA: 0s - loss: 0.1755 - acc: 0.9500\n",
            "Epoch 48: val_loss did not improve from 0.08498\n",
            "10/10 [==============================] - 2s 221ms/step - loss: 0.1755 - acc: 0.9500 - val_loss: 0.1207 - val_acc: 1.0000\n",
            "Epoch 49/50\n",
            "10/10 [==============================] - ETA: 0s - loss: 0.1582 - acc: 0.9500\n",
            "Epoch 49: val_loss did not improve from 0.08498\n",
            "10/10 [==============================] - 2s 220ms/step - loss: 0.1582 - acc: 0.9500 - val_loss: 0.1553 - val_acc: 0.9500\n",
            "Epoch 50/50\n",
            "10/10 [==============================] - ETA: 0s - loss: 0.1607 - acc: 0.9625\n",
            "Epoch 50: val_loss did not improve from 0.08498\n",
            "10/10 [==============================] - 2s 247ms/step - loss: 0.1607 - acc: 0.9625 - val_loss: 0.1632 - val_acc: 0.9500\n"
          ]
        }
      ]
    },
    {
      "cell_type": "code",
      "source": [
        "model.save_weights('/content/drive/MyDrive/Computer Vision/Dynamic Gesture Recognition/weights/')"
      ],
      "metadata": {
        "id": "ughrAqUqaro_"
      },
      "execution_count": null,
      "outputs": []
    },
    {
      "cell_type": "code",
      "source": [
        "sg.utils.plot_history(history)"
      ],
      "metadata": {
        "id": "giY2i2yTYKl-",
        "colab": {
          "base_uri": "https://localhost:8080/",
          "height": 585
        },
        "outputId": "55aa104e-a4a7-48d5-c0c5-c541a8ba2221"
      },
      "execution_count": null,
      "outputs": [
        {
          "output_type": "display_data",
          "data": {
            "text/plain": [
              "<Figure size 504x576 with 2 Axes>"
            ],
            "image/png": "[encoded data removed]"
          },
          "metadata": {
            "needs_background": "light"
          }
        }
      ]
    },
    {
      "cell_type": "code",
      "source": [
        "test_metrics = model.evaluate(test_gen)\n",
        "print(\"\\nTest Set Metrics:\")\n",
        "for name, val in zip(model.metrics_names, test_metrics):\n",
        "    print(\"\\t{}: {:0.4f}\".format(name, val))"
      ],
      "metadata": {
        "colab": {
          "base_uri": "https://localhost:8080/"
        },
        "id": "Va-fwsLACdsr",
        "outputId": "4d23cf95-68f9-4467-d4a0-1290561520d6"
      },
      "execution_count": null,
      "outputs": [
        {
          "output_type": "stream",
          "name": "stdout",
          "text": [
            "20/20 [==============================] - 1s 26ms/step - loss: 0.1632 - acc: 0.9500\n",
            "\n",
            "Test Set Metrics:\n",
            "\tloss: 0.1632\n",
            "\tacc: 0.9500\n"
          ]
        }
      ]
    }
  ]
}